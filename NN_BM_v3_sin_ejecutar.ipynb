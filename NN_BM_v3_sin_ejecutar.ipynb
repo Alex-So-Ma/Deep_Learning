{
 "cells": [
  {
   "cell_type": "markdown",
   "id": "041b8606",
   "metadata": {},
   "source": [
    "# Datos sin limpiar"
   ]
  },
  {
   "cell_type": "code",
   "execution_count": 1,
   "id": "a4186d34",
   "metadata": {},
   "outputs": [],
   "source": [
    "import pandas as pd\n",
    "import random\n",
    "import seaborn as sns\n",
    "import matplotlib.pyplot as plt"
   ]
  },
  {
   "cell_type": "code",
   "execution_count": 2,
   "id": "8345d345",
   "metadata": {},
   "outputs": [],
   "source": [
    "#Data from text file to python list\n",
    "text_file='cpaa.txt'\n",
    "f = open(text_file, encoding='utf8')\n",
    "data=[]\n",
    "for x in f:\n",
    "    data.append(x.lower())"
   ]
  },
  {
   "cell_type": "code",
   "execution_count": null,
   "id": "4b940ea6",
   "metadata": {},
   "outputs": [],
   "source": [
    "data"
   ]
  },
  {
   "cell_type": "code",
   "execution_count": 4,
   "id": "19bd1982",
   "metadata": {},
   "outputs": [],
   "source": [
    "#stores the labels in the order they appear, not all articles have all types of data\n",
    "datalabels=[]\n",
    "for i in range(len(data)):\n",
    "    if data[i][0] != ' ': #if the element starts with a space the element contains no label\n",
    "        if data[i][0:2] in datalabels: #if the label is already registered then the label is stored as the previous label to the next one\n",
    "            lastlabel=data[i][0:2]\n",
    "        else:\n",
    "            if len(datalabels) == 0: #the first label must be registered differently since the loop created do not cover the case were there is no previous label\n",
    "                datalabels.append(data[i][0:2])\n",
    "            else: #the label is registered in the index right after the previous label\n",
    "                for j in range(len(datalabels)):\n",
    "                    if datalabels[j] == lastlabel:\n",
    "                        datalabels.insert(j+1,data[i][0:2])\n",
    "            lastlabel=data[i][0:2]\n",
    "\n",
    "#things that are not labels, but appear as labels to the for cycle, must be removed\n",
    "datalabels.remove('\\ufefff')\n",
    "datalabels.remove('\\n')\n",
    "datalabels.remove('vr')"
   ]
  },
  {
   "cell_type": "code",
   "execution_count": 5,
   "id": "13d2123a",
   "metadata": {},
   "outputs": [],
   "source": [
    "reordered_datalabels=['af','pu','pi','de','id','wc','sc','c1','au']"
   ]
  },
  {
   "cell_type": "code",
   "execution_count": 6,
   "id": "9c5ca825",
   "metadata": {},
   "outputs": [],
   "source": [
    "for x in reordered_datalabels:\n",
    "    datalabels.remove(x)\n",
    "    datalabels.append(x)"
   ]
  },
  {
   "cell_type": "code",
   "execution_count": 7,
   "id": "91819e8b",
   "metadata": {},
   "outputs": [],
   "source": [
    "#A dictionary is created to store the data in their respective labels\n",
    "datadictionary = {}\n",
    "for x in datalabels:\n",
    "    datadictionary[x]=[]"
   ]
  },
  {
   "cell_type": "code",
   "execution_count": null,
   "id": "e1c855a9",
   "metadata": {},
   "outputs": [],
   "source": [
    "#Elements that are irrelevant are removed\n",
    "data.remove('\\n')\n",
    "data.remove('\\ufefffn clarivate analytics web of science\\n')\n",
    "data.remove('vr 1.0\\n')\n",
    "n=0\n",
    "\n",
    "for x in data:\n",
    "    if x[0:2] == 'pt': #The articles are counted\n",
    "        n+=1\n",
    "    if x[0:2] == 'ba': #A spaceial case's index is found\n",
    "        if n == 6807:    \n",
    "            print(x)\n",
    "print(n)"
   ]
  },
  {
   "cell_type": "code",
   "execution_count": 9,
   "id": "82b04adf",
   "metadata": {},
   "outputs": [],
   "source": [
    "#The data dictionary is filled with the information from data\n",
    "iodata=-1\n",
    "currentdatalabel=0\n",
    "for x in data:\n",
    "    if x[0:2] == 'pt': #All articles have publication type (pt) as their first element\n",
    "        iodata+=1\n",
    "        for y in datalabels:\n",
    "            datadictionary[y].append(0)#A 0 is added to all lists in the dictionary that corresponds to the article that is identified by the current pt\n",
    "        datadictionary[x[0:2]][iodata]=x[3:-1]#The 0 that corresponds to the pt list is raplced with the publication type of the current article \n",
    "    else:\n",
    "        if not x[0:2] in datalabels:#if the element does not have a label it correspond to the last datalabel found in an element\n",
    "            if type(datadictionary[currentdatalabel][iodata]) != str: #if the current dictionary entry is a list the current element is added to that list\n",
    "                datadictionary[currentdatalabel][iodata].append(x[3:-1])\n",
    "            else: #if the current dictionary entry is a not a lis, it is converted into one and the new element is added\n",
    "                datadictionary[currentdatalabel][iodata]=[datadictionary[currentdatalabel][iodata]]\n",
    "                datadictionary[currentdatalabel][iodata].append(x[3:-1])\n",
    "        else: #if the element has a label the it is added to the current dictionary entry and the label is marked as the current label\n",
    "            datadictionary[x[0:2]][iodata]=x[3:-1]\n",
    "            currentdatalabel=x[0:2]"
   ]
  },
  {
   "cell_type": "code",
   "execution_count": null,
   "id": "d7beb96e",
   "metadata": {},
   "outputs": [],
   "source": [
    "#A new dictionary is created to focus on the authors not the articles, so if an article has 5 coauthors 5 copies of the article are saved, one for each author\n",
    "fddic = {}\n",
    "for x in datalabels:\n",
    "    fddic[x]=[]\n",
    "xn=0\n",
    "for x in datadictionary['af']:\n",
    "    aun=0\n",
    "    if type(x) == str: #if the article has only one author the information is left as is except for the field 'au'\n",
    "        for z in datalabels:\n",
    "            if z == 'af':\n",
    "                fddic[z].append('{}'.format(str(aun))+x)\n",
    "            elif z == 'au': #Since we have the author's full name in af au is used to save all coauthors full names, in the case of one author this field is 0\n",
    "                fddic[z].append(0)\n",
    "            else: #The other fiels are left as is\n",
    "                fddic[z].append(datadictionary[z][xn])\n",
    "    else:\n",
    "        try:\n",
    "            for y in x: #A copy of the information is generated in the dictionary for each coauthor\n",
    "                for z in datalabels:\n",
    "                    if z == 'af': #One of the coauthors is saved as the owner of this copy of the articles information\n",
    "                        fddic[z].append('{}'.format(str(aun))+y)#The number of coauthor is added to the begining of the name\n",
    "                    elif z == 'au': #All coauthors are saved as in this field\n",
    "                        fddic[z].append(x)\n",
    "                    else: #The other fiels are left as is\n",
    "                        fddic[z].append(datadictionary[z][xn])\n",
    "                aun+=1\n",
    "        except Exception: #The special case metioned above, we can eliminate it because is only one\n",
    "            print('Uno no se pudo')\n",
    "    xn+=1"
   ]
  },
  {
   "cell_type": "code",
   "execution_count": null,
   "id": "facd3045",
   "metadata": {},
   "outputs": [],
   "source": [
    "df = pd.DataFrame(fddic) \n",
    "df"
   ]
  },
  {
   "cell_type": "code",
   "execution_count": null,
   "id": "ea3d4214",
   "metadata": {},
   "outputs": [],
   "source": [
    "numofcol=0\n",
    "for x in df.columns:\n",
    "    if df[x][df[x]==0].count() > 15000: #if a field is 0 for more than half of the authors the field is deleted\n",
    "        del df[x]\n",
    "    else:\n",
    "        numofcol+=1\n",
    "        print(x,df[x][df[x]==0].count())\n",
    "print('fields left:',numofcol)"
   ]
  },
  {
   "cell_type": "code",
   "execution_count": 13,
   "id": "b4597a87",
   "metadata": {},
   "outputs": [],
   "source": [
    "#Fields are eliminated based on their usefulness for AND\n",
    "for x in ['pt','ti','la','dt','ab','rp','u1','u2','pa','sn','ei','ji','vl','bp','ep','di','pg','we','ga','ut','da','er','c3','nr','tc','z9','cr','fx','pd','py','so','fu','j9']:\n",
    "    del df[x]"
   ]
  },
  {
   "cell_type": "code",
   "execution_count": null,
   "id": "548dc98f",
   "metadata": {},
   "outputs": [],
   "source": [
    "#The fields we are lef with\n",
    "for x in df.columns:\n",
    "    print(x,df[x][df[x]==0].count())"
   ]
  },
  {
   "cell_type": "code",
   "execution_count": 15,
   "id": "801d234a",
   "metadata": {},
   "outputs": [],
   "source": [
    "#Elements of the dataframe are saved as copies, so they don't alter one antoher\n",
    "for x in df.columns:\n",
    "    for y in df.index:\n",
    "        try:\n",
    "            df[x][y]=df[x][y].copy()\n",
    "        except Exception:\n",
    "            pass"
   ]
  },
  {
   "cell_type": "code",
   "execution_count": 16,
   "id": "d45d5608",
   "metadata": {},
   "outputs": [],
   "source": [
    "#Authors are deleted from their goup of coauthors\n",
    "for x in df.index:\n",
    "    if type(df['au'][x]) != int:\n",
    "        try:\n",
    "            df['au'][x].remove(df['af'][x][1:])\n",
    "        except Exception:\n",
    "            df['au'][x].remove(df['af'][x][2:])"
   ]
  },
  {
   "cell_type": "code",
   "execution_count": 17,
   "id": "6b47405f",
   "metadata": {},
   "outputs": [],
   "source": [
    "#Information might be separated in diferent elements of the same list\n",
    "#All elements are combined and separated by how they are separated in the source, by a semicolon\n",
    "def join_split(col):\n",
    "    c=0\n",
    "    for x in df[col]:\n",
    "        if type(x) == list:\n",
    "            y=' '.join(x.copy())\n",
    "            df[col][c]=y.split(\";\")\n",
    "        elif type(x) == str:\n",
    "            y=x\n",
    "            df[col][c]=y.split(\";\")\n",
    "        c+=1"
   ]
  },
  {
   "cell_type": "code",
   "execution_count": 18,
   "id": "d64976eb",
   "metadata": {},
   "outputs": [],
   "source": [
    "join_split('de')"
   ]
  },
  {
   "cell_type": "code",
   "execution_count": 19,
   "id": "fc0892ae",
   "metadata": {},
   "outputs": [],
   "source": [
    "join_split('id')"
   ]
  },
  {
   "cell_type": "code",
   "execution_count": 20,
   "id": "ba0aa3dc",
   "metadata": {},
   "outputs": [],
   "source": [
    "#C1 refers to the addresses of the authors\n",
    "#The address is accompanied by a list of the authors whose the address it belongs to\n",
    "for x in df.index:\n",
    "    sc=0\n",
    "    if type(df['c1'][x]) == str: #if it is a string there is only one address\n",
    "        if df['af'][x][2:] in df['c1'][x]: #It must be verified if the address corresponds to the curent author\n",
    "            num=2\n",
    "            for y in df['c1'][x]: #The list of authors is eliminated\n",
    "                if y != ']':\n",
    "                    num+=1\n",
    "                else:\n",
    "                    df['c1'][x]=df['c1'][x][num:]\n",
    "        else: #if the author is not in the list the address is left as 0 for the author in question\n",
    "            df['c1'][x]=0\n",
    "    elif type(df['c1'][x]) == list: #if there is a list of adresses then each one must be verified \n",
    "        for y in df['c1'][x]:\n",
    "            if df['af'][x][2:] in y:\n",
    "                num=2\n",
    "                for z in y:\n",
    "                    if z != ']':\n",
    "                        num+=1\n",
    "                    else:\n",
    "                        df['c1'][x]=y[num:]\n",
    "                        sc=1\n",
    "            else:\n",
    "                if sc != 1:\n",
    "                    df['c1'][x]=0"
   ]
  },
  {
   "cell_type": "code",
   "execution_count": 21,
   "id": "90f55005",
   "metadata": {},
   "outputs": [],
   "source": [
    "#The emails of the authors appear as a list witho only the orther they appear in as an indicator of what email belongs to who\n",
    "#Only when we have the same amount of emails as authors we can be certain of what email belongs to who\n",
    "col='em'\n",
    "a=0\n",
    "\n",
    "join_split(col)\n",
    "\n",
    "for c in df.index:\n",
    "    if df[col][c] != 0 and df['au'][c] != 0:#First we must have information to analyze\n",
    "        if len(df['au'][c])+1 == len(df[col][c]):#We verify if there are the same number of emails and authors\n",
    "            try:\n",
    "                df[col][c]=df[col][c][int(df['af'][c][0:2])].replace(' ','')#Since the number of coauthor was saved with the name we use that number\n",
    "            except Exception:\n",
    "                df[col][c]=df[col][c][int(df['af'][c][0:1])].replace(' ','')#the number might have to digits\n",
    "        else:\n",
    "            df[col][c]=0\n",
    "for i in df.index:\n",
    "    if type(df['em'][i]) == list:\n",
    "        df['em'][i]=df['em'][i][0].replace(' ','')\n",
    "for x in df.index:\n",
    "    if df[col][x] != 0:\n",
    "        df[col][x]=df[col][x].split('@')#The emails are splited because it will be usefull"
   ]
  },
  {
   "cell_type": "code",
   "execution_count": 22,
   "id": "531ffd86",
   "metadata": {},
   "outputs": [],
   "source": [
    "#In the case of this identification number we have the name of the author to identify it\n",
    "col='ri'\n",
    "c=0\n",
    "\n",
    "join_split(col)\n",
    "\n",
    "for c in df.index:\n",
    "    if df[col][c] != 0 and df['au'][c] != 0:\n",
    "        sc=0\n",
    "        for i in df[col][c]:\n",
    "            if df['af'][c][3:] in i:\n",
    "                num=1\n",
    "                for z in i:\n",
    "                    if z != '/':\n",
    "                        num+=1\n",
    "                    else:\n",
    "                        df[col][c]=i[num:]\n",
    "                        sc=1\n",
    "            else:\n",
    "                if sc != 1:\n",
    "                    df[col][c]=0\n",
    "    if df[col][c] != 0 and df['au'][c] == 0:\n",
    "        sc=0\n",
    "        if df['af'][c][3:] in df[col][c]:\n",
    "            num=1\n",
    "            for z in i:\n",
    "                if z != '/':\n",
    "                    num+=1\n",
    "                else:\n",
    "                    df[col][c]=i[num:]\n",
    "                    sc=1\n",
    "        else:\n",
    "            if sc != 1:\n",
    "                df[col][c]=0"
   ]
  },
  {
   "cell_type": "code",
   "execution_count": 23,
   "id": "e3354bfa",
   "metadata": {},
   "outputs": [],
   "source": [
    "#In the case of this identification number we have the name of the author to identify it\n",
    "col='oi'\n",
    "c=0\n",
    "\n",
    "join_split(col)\n",
    "\n",
    "for c in df.index:\n",
    "    if df[col][c] != 0 and df['au'][c] != 0:\n",
    "        sc=0\n",
    "        for i in df[col][c]:\n",
    "            if df['af'][c][3:] in i:\n",
    "                num=1\n",
    "                for z in i:\n",
    "                    if z != '/':\n",
    "                        num+=1\n",
    "                    else:\n",
    "                        df[col][c]=i[num:]\n",
    "                        sc=1\n",
    "            else:\n",
    "                if sc != 1:\n",
    "                    df[col][c]=0\n",
    "    if df[col][c] != 0 and df['au'][c] == 0:\n",
    "        sc=0\n",
    "        if df['af'][c][3:] in df[col][c]:\n",
    "            num=1\n",
    "            for z in i:\n",
    "                if z != '/':\n",
    "                    num+=1\n",
    "                else:\n",
    "                    df[col][c]=i[num:]\n",
    "                    sc=1\n",
    "        else:\n",
    "            if sc != 1:\n",
    "                df[col][c]=0"
   ]
  },
  {
   "cell_type": "code",
   "execution_count": 24,
   "id": "8e9641ba",
   "metadata": {},
   "outputs": [],
   "source": [
    "col='wc'\n",
    "join_split(col)"
   ]
  },
  {
   "cell_type": "code",
   "execution_count": 25,
   "id": "75bccedc",
   "metadata": {},
   "outputs": [],
   "source": [
    "col='sc'\n",
    "join_split(col)"
   ]
  },
  {
   "cell_type": "code",
   "execution_count": 26,
   "id": "7a53b42b",
   "metadata": {},
   "outputs": [],
   "source": [
    "for c in df.index:\n",
    "    df['af'][c]=df['af'][c][1:]\n",
    "    try:\n",
    "        int(df['af'][c][0])\n",
    "        df['af'][c]=df['af'][c][1:]\n",
    "    except Exception:\n",
    "        pass"
   ]
  },
  {
   "cell_type": "code",
   "execution_count": null,
   "id": "39b42bd7",
   "metadata": {},
   "outputs": [],
   "source": [
    "for x in df.columns:\n",
    "    print(x,df[x][df[x]==0].count())"
   ]
  },
  {
   "cell_type": "code",
   "execution_count": null,
   "id": "009d8c0d",
   "metadata": {},
   "outputs": [],
   "source": [
    "for y in df.index:\n",
    "    for x in df.columns:\n",
    "        print(x,df[x][y])\n",
    "    print('--------------------------------------------------')"
   ]
  },
  {
   "cell_type": "code",
   "execution_count": null,
   "id": "5ead85f1",
   "metadata": {},
   "outputs": [],
   "source": [
    "df"
   ]
  },
  {
   "cell_type": "markdown",
   "id": "643966d9",
   "metadata": {},
   "source": [
    "# Datos limpios"
   ]
  },
  {
   "cell_type": "code",
   "execution_count": null,
   "id": "4c813628",
   "metadata": {},
   "outputs": [],
   "source": [
    "ndf1=df.copy()\n",
    "ndf1 = ndf1.drop(ndf1[(ndf1['em'] == 0) & (ndf1['ri'] == 0) & (ndf1['oi'] == 0)].index)\n",
    "\n",
    "ndf1"
   ]
  },
  {
   "cell_type": "code",
   "execution_count": null,
   "id": "a53cf513",
   "metadata": {},
   "outputs": [],
   "source": [
    "for y in ndf1.index:\n",
    "    for x in ndf1.columns:\n",
    "        print(x,ndf1[x][y])\n",
    "    print('--------------------------------------------------')"
   ]
  },
  {
   "cell_type": "code",
   "execution_count": null,
   "id": "1c03a370",
   "metadata": {},
   "outputs": [],
   "source": [
    "col1='af'\n",
    "col2='em'\n",
    "col3='ri'\n",
    "col4='oi'\n",
    "list1=[]\n",
    "rep=[]\n",
    "misnomdifa=0\n",
    "tot=0\n",
    "datafnw=[]\n",
    "for x in ndf1.index:\n",
    "    if not ndf1[col1][x] in list1:\n",
    "        n=ndf1[col1][ndf1[col1]==ndf1[col1][x]].count()\n",
    "        list1.append(ndf1[col1][x])\n",
    "        rep.append(n)\n",
    "        e=0\n",
    "        r=0\n",
    "        o=0\n",
    "        for y in ndf1[col1][ndf1[col1]==ndf1[col1][x]].index:\n",
    "            if ndf1[col2][x] != 0 and ndf1[col2][y] != 0:\n",
    "                if ndf1[col2][x][1] == ndf1[col2][y][1]:\n",
    "                    if ndf1[col2][x][0] != ndf1[col2][y][0]:\n",
    "                        e+=1\n",
    "                        print(ndf1[col2][x],ndf1[col2][y])\n",
    "            if ndf1[col3][x] != 0 and ndf1[col3][y] != 0:\n",
    "                if ndf1[col3][x] != ndf1[col3][y]:\n",
    "                    r+=1\n",
    "                    print(ndf1[col3][x],ndf1[col3][y])\n",
    "            if ndf1[col4][x] != 0 and ndf1[col4][y] != 0:\n",
    "                if ndf1[col4][x] != ndf1[col4][y]:\n",
    "                    o+=1\n",
    "                    print(ndf1[col4][x],ndf1[col4][y])\n",
    "    if e != 0 or r != 0 or o != 0:\n",
    "        print(ndf1[col1][x],n)\n",
    "        print('H:',e,r,o)\n",
    "        misnomdifa+=1\n",
    "        print('----------------------------------------------------------------------------------')\n",
    "print(misnomdifa, tot)\n",
    "import statistics as stcs\n",
    "\n",
    "print(stcs.mean(rep),len(rep))"
   ]
  },
  {
   "cell_type": "code",
   "execution_count": null,
   "id": "8dda0433",
   "metadata": {},
   "outputs": [],
   "source": [
    "col3='af'\n",
    "col1='ri'\n",
    "e=0\n",
    "r=0\n",
    "o=0\n",
    "list1=[]\n",
    "rep=[]\n",
    "misnomdifa=0\n",
    "for x in ndf1.index:\n",
    "    if not ndf1[col1][x] in list1 and ndf1[col1][x] != 0:\n",
    "        n=ndf1[col1][ndf1[col1]==ndf1[col1][x]].count()\n",
    "        list1.append(ndf1[col1][x])\n",
    "        rep.append(n)\n",
    "        e=0\n",
    "        r=0\n",
    "        o=0\n",
    "        for y in ndf1[col1][ndf1[col1]==ndf1[col1][x]].index:\n",
    "            if ndf1[col3][x] != 0 and ndf1[col3][y] != 0:\n",
    "                if ndf1[col3][x] != ndf1[col3][y]:\n",
    "                    r+=1\n",
    "                    print(ndf1[col3][x],ndf1[col3][y])\n",
    "    if e != 0 or r != 0 or o != 0:\n",
    "        print(ndf1[col1][x],n)\n",
    "        print('H:',r)\n",
    "        misnomdifa+=1\n",
    "        print('----------------------------------------------------------------------------------')\n",
    "print(misnomdifa)"
   ]
  },
  {
   "cell_type": "code",
   "execution_count": null,
   "id": "b79fe774",
   "metadata": {},
   "outputs": [],
   "source": [
    "col3='af'\n",
    "col1='oi'\n",
    "\n",
    "list1=[]\n",
    "rep=[]\n",
    "misnomdifa=0\n",
    "for x in ndf1.index:\n",
    "    if not ndf1[col1][x] in list1 and ndf1[col1][x] != 0:\n",
    "        n=ndf1[col1][ndf1[col1]==ndf1[col1][x]].count()\n",
    "        list1.append(ndf1[col1][x])\n",
    "        rep.append(n)\n",
    "        e=0\n",
    "        r=0\n",
    "        o=0\n",
    "        for y in ndf1[col1][ndf1[col1]==ndf1[col1][x]].index:\n",
    "            if ndf1[col3][x] != 0 and ndf1[col3][y] != 0:\n",
    "                if ndf1[col3][x] != ndf1[col3][y]:\n",
    "                    r+=1\n",
    "                    print(ndf1[col3][x],ndf1[col3][y])\n",
    "    if e != 0 or r != 0 or o != 0:\n",
    "        print(ndf1[col1][x],n)\n",
    "        print('H:',r)\n",
    "        misnomdifa+=1\n",
    "        print('----------------------------------------------------------------------------------')\n",
    "print(misnomdifa)"
   ]
  },
  {
   "cell_type": "code",
   "execution_count": null,
   "id": "5a47ba24",
   "metadata": {},
   "outputs": [],
   "source": [
    "def f(x):\n",
    "    fac=1\n",
    "    for i in range(x):\n",
    "        fac=fac*(i+1)\n",
    "    return fac\n",
    "\n",
    "nac=len(ndf1.index)-13500\n",
    "\n",
    "f(nac)/(2*f(nac-2))"
   ]
  },
  {
   "cell_type": "markdown",
   "id": "7679a9da",
   "metadata": {},
   "source": [
    "# Vectorización"
   ]
  },
  {
   "cell_type": "code",
   "execution_count": null,
   "id": "eb8ef55e",
   "metadata": {},
   "outputs": [],
   "source": [
    "charac=[]\n",
    "for x in ndf1.index:\n",
    "    for y in ndf1.columns:\n",
    "        try:\n",
    "            for z in ndf1[y][x]:\n",
    "                for w in z:\n",
    "                    if not w in charac:\n",
    "                        charac.append(w)\n",
    "        except Exception:\n",
    "            pass\n",
    "characters = 'ñ'.join(sorted(charac))\n",
    "key=characters.split('ñ')\n",
    "length     = len(key)\n",
    "print(key,'\\n',length)"
   ]
  },
  {
   "cell_type": "code",
   "execution_count": 37,
   "id": "c8709b17",
   "metadata": {},
   "outputs": [],
   "source": [
    "noe= {}\n",
    "for x in ndf1.columns:\n",
    "    noe[x]=[]\n",
    "    for y in ndf1.index:\n",
    "        if type(ndf1[x][y]) == list:\n",
    "            noe[x].append(len(ndf1[x][y]))\n",
    "        else:\n",
    "            noe[x].append(1)"
   ]
  },
  {
   "cell_type": "code",
   "execution_count": 38,
   "id": "cb27ad24",
   "metadata": {},
   "outputs": [],
   "source": [
    "noedf=pd.DataFrame(noe)"
   ]
  },
  {
   "cell_type": "code",
   "execution_count": null,
   "id": "811c62e6",
   "metadata": {},
   "outputs": [],
   "source": [
    "sns.countplot(x = 'au', data = noedf)"
   ]
  },
  {
   "cell_type": "code",
   "execution_count": null,
   "id": "ab8598b2",
   "metadata": {},
   "outputs": [],
   "source": [
    "plt.figure(i)\n",
    "sns.boxplot(x = 'au', data = noedf)"
   ]
  },
  {
   "cell_type": "code",
   "execution_count": null,
   "id": "a24a43dc",
   "metadata": {},
   "outputs": [],
   "source": [
    "sns.countplot(x = 'de', data = noedf)"
   ]
  },
  {
   "cell_type": "code",
   "execution_count": null,
   "id": "e3937e70",
   "metadata": {},
   "outputs": [],
   "source": [
    "plt.figure(i)\n",
    "sns.boxplot(x = 'de', data = noedf)"
   ]
  },
  {
   "cell_type": "code",
   "execution_count": null,
   "id": "4ca28ee7",
   "metadata": {},
   "outputs": [],
   "source": [
    "nukey=noedf.describe()\n",
    "nukey['au']['max']=10\n",
    "nukey['de']['max']=10\n",
    "nukey"
   ]
  },
  {
   "cell_type": "code",
   "execution_count": null,
   "id": "b5d05d06",
   "metadata": {},
   "outputs": [],
   "source": [
    "for x in ndf1.columns:\n",
    "    print(x,ndf1[x][3490])"
   ]
  },
  {
   "cell_type": "code",
   "execution_count": null,
   "id": "e381a72a",
   "metadata": {},
   "outputs": [],
   "source": [
    "for x in ndf1.columns:\n",
    "    print(x,ndf1[x][4501])"
   ]
  },
  {
   "cell_type": "code",
   "execution_count": null,
   "id": "118321f0",
   "metadata": {},
   "outputs": [],
   "source": [
    "key='0 1 2 3 4 5 6 7 8 9 a b c d e f g h i j k l m n o p q r s t u v w x y z'\n",
    "key=key.split(' ')\n",
    "\n",
    "numofrows=0\n",
    "columnsta=[]\n",
    "for x in ndf1.columns:\n",
    "    if not x in ['em','ri','oi']:\n",
    "        columnsta.append(x)\n",
    "        numofrows=numofrows+nukey[x]['max']\n",
    "numofcols=len(key)\n",
    "\n",
    "img=[]\n",
    "img1=[]\n",
    "au1=3490\n",
    "for x in ndf1.columns:\n",
    "    if type(ndf1[x][au1]) == list:\n",
    "        currentlist=ndf1[x][au1].copy()\n",
    "        random.shuffle(currentlist)\n",
    "        for y in range(int(nukey[x]['max'])):\n",
    "            newl=[0]*numofcols\n",
    "            try:\n",
    "                for z in currentlist[y]:\n",
    "                    if z in key:\n",
    "                        newl[key.index(z)]+=1\n",
    "            except Exception:\n",
    "                pass\n",
    "            img1.append(newl)\n",
    "    elif type(ndf1[x][au1]) == int:\n",
    "        for y in range(int(nukey[x]['max'])):\n",
    "            newl=[0]*numofcols\n",
    "            img1.append(newl)\n",
    "    elif type(ndf1[x][au1]) == str:\n",
    "        for y in range(int(nukey[x]['max'])):\n",
    "            newl=[0]*numofcols\n",
    "            if y == 0:\n",
    "                for z in ndf1[x][au1]:\n",
    "                    if z in key:\n",
    "                        newl[key.index(z)]+=1\n",
    "            img1.append(newl)\n",
    "img2=[]\n",
    "au2=4501\n",
    "for x in ndf1.columns:\n",
    "    if type(ndf1[x][au2]) == list:\n",
    "        currentlist=ndf1[x][au2].copy()\n",
    "        random.shuffle(currentlist)\n",
    "        for y in range(int(nukey[x]['max'])):\n",
    "            newl=[0]*numofcols\n",
    "            try:\n",
    "                for z in currentlist[y]:\n",
    "                    if z in key:\n",
    "                        newl[key.index(z)]+=1\n",
    "            except Exception:\n",
    "                pass\n",
    "            img2.append(newl)\n",
    "    elif type(ndf1[x][au2]) == int:\n",
    "        for y in range(int(nukey[x]['max'])):\n",
    "            newl=[0]*numofcols\n",
    "            img2.append(newl)\n",
    "    elif type(ndf1[x][au2]) == str:\n",
    "        for y in range(int(nukey[x]['max'])):\n",
    "            newl=[0]*numofcols\n",
    "            if y == 0:\n",
    "                for z in ndf1[x][au2]:\n",
    "                    if z in key:\n",
    "                        newl[key.index(z)]+=1\n",
    "            img2.append(newl)\n",
    "for i in range(int(numofrows)):\n",
    "    img.append(img1[i]+img2[i])\n",
    "\n",
    "for x in img:\n",
    "    print(x)"
   ]
  },
  {
   "cell_type": "code",
   "execution_count": null,
   "id": "6034f2bf",
   "metadata": {},
   "outputs": [],
   "source": [
    "def f(x):\n",
    "    fac=1\n",
    "    for i in range(x):\n",
    "        fac=fac*(i+1)\n",
    "    return fac\n",
    "\n",
    "col1='af'\n",
    "aualch=[]\n",
    "totalof=0\n",
    "for x in ndf1[col1]:\n",
    "    if not x in aualch:\n",
    "        n=ndf1[col1][ndf1[col1]==x].count()\n",
    "        if n != 1:\n",
    "            totalof=totalof+(f(n)/(2*f(n-2)))\n",
    "            print(x,n)\n",
    "        aualch.append(x)\n",
    "print(totalof)"
   ]
  },
  {
   "cell_type": "code",
   "execution_count": 48,
   "id": "6c1c2588",
   "metadata": {},
   "outputs": [],
   "source": [
    "col1='af'\n",
    "col2='em'\n",
    "col3='ri'\n",
    "col4='oi'\n",
    "list1=[]\n",
    "sameau=[]\n",
    "for x in ndf1.index:\n",
    "    if not ndf1[col1][x] in list1:\n",
    "        if ndf1[col1][ndf1[col1]==ndf1[col1][x]].count() != 1:\n",
    "            currentlist=ndf1[col1][ndf1[col1]==ndf1[col1][x]].index\n",
    "            for y in range(len(currentlist)):\n",
    "                for z in range(y+1,len(currentlist)):\n",
    "                    e=0\n",
    "                    r=0\n",
    "                    o=0\n",
    "                    au1=currentlist[y]\n",
    "                    au2=currentlist[z]\n",
    "                    if ndf1[col2][au1] != 0 and ndf1[col2][au2] != 0:\n",
    "                        if ndf1[col2][au1][1] == ndf1[col2][au2][1]:\n",
    "                            if ndf1[col2][au1][0] == ndf1[col2][au2][0]:\n",
    "                                e+=1\n",
    "                            else:\n",
    "                                e=e-1\n",
    "                    if ndf1[col3][au1] != 0 and ndf1[col3][au2] != 0:\n",
    "                        if ndf1[col3][au1] == ndf1[col3][au2]:\n",
    "                            r+=1\n",
    "                        else:\n",
    "                            r=r-1\n",
    "                    if ndf1[col4][au1] != 0 and ndf1[col4][au2] != 0:\n",
    "                        if ndf1[col4][au1] == ndf1[col4][au2]:\n",
    "                            o+=1\n",
    "                        else:\n",
    "                            o=o-1\n",
    "                    if e+r+o > 0:\n",
    "                        sameau.append([[au1,au2],1])\n",
    "        list1.append(ndf1[col1][x])"
   ]
  },
  {
   "cell_type": "code",
   "execution_count": 49,
   "id": "5204aa1b",
   "metadata": {},
   "outputs": [],
   "source": [
    "col1='af'\n",
    "col2='em'\n",
    "col3='ri'\n",
    "col4='oi'\n",
    "list2=[]\n",
    "diffau=[]\n",
    "for x in range(len(ndf1.index)):\n",
    "    con=0\n",
    "    for y in range(x+1,len(ndf1.index)):\n",
    "        if con < 3:\n",
    "            o=0\n",
    "            au1=ndf1.index[x]\n",
    "            try:\n",
    "                au2=ndf1.index[y+29]\n",
    "            except Exception:\n",
    "                break\n",
    "            if ndf1[col4][au1] != 0 and ndf1[col4][au2] != 0:\n",
    "                if ndf1[col4][au1] == ndf1[col4][au2]:\n",
    "                    o+=1\n",
    "                else:\n",
    "                    o=o-1\n",
    "            if o < 0:\n",
    "                con+=1\n",
    "                diffau.append([[au1,au2],0])\n",
    "        else:\n",
    "            break"
   ]
  },
  {
   "cell_type": "code",
   "execution_count": 50,
   "id": "24606d95",
   "metadata": {},
   "outputs": [],
   "source": [
    "cdiffau=diffau.copy()\n",
    "random.shuffle(cdiffau)\n",
    "differentau=cdiffau[:6477]"
   ]
  },
  {
   "cell_type": "code",
   "execution_count": 51,
   "id": "fe312ed6",
   "metadata": {},
   "outputs": [],
   "source": [
    "random.shuffle(sameau)"
   ]
  },
  {
   "cell_type": "code",
   "execution_count": 52,
   "id": "049b8d2e",
   "metadata": {},
   "outputs": [],
   "source": [
    "def vecto(au1,au2):\n",
    "    import random\n",
    "    \n",
    "    key='0 1 2 3 4 5 6 7 8 9 a b c d e f g h i j k l m n o p q r s t u v w x y z'\n",
    "    key=key.split(' ')\n",
    "\n",
    "    numofrows=0\n",
    "    columnsta=[]\n",
    "    for x in ndf1.columns:\n",
    "        if not x in ['em','ri','oi']:\n",
    "            columnsta.append(x)\n",
    "            numofrows=numofrows+nukey[x]['max']\n",
    "    numofcols=len(key)\n",
    "    img=[]\n",
    "    img1=[]\n",
    "    img2=[]\n",
    "    for x in columnsta:\n",
    "        if type(ndf1[x][au1]) == list:\n",
    "            currentlist=ndf1[x][au1].copy()\n",
    "            random.shuffle(currentlist)\n",
    "            for y in range(int(nukey[x]['max'])):\n",
    "                newl=[0]*numofcols\n",
    "                try:\n",
    "                    for z in currentlist[y]:\n",
    "                        if z in key:\n",
    "                            newl[key.index(z)]+=1\n",
    "                except Exception:\n",
    "                    pass\n",
    "                img1.append(newl)\n",
    "        elif type(ndf1[x][au1]) == int:\n",
    "            for y in range(int(nukey[x]['max'])):\n",
    "                newl=[0]*numofcols\n",
    "                img1.append(newl)\n",
    "        elif type(ndf1[x][au1]) == str:\n",
    "            for y in range(int(nukey[x]['max'])):\n",
    "                newl=[0]*numofcols\n",
    "                if y == 0:\n",
    "                    for z in ndf1[x][au1]:\n",
    "                        if z in key:\n",
    "                            newl[key.index(z)]+=1\n",
    "                img1.append(newl)\n",
    "    for x in columnsta:\n",
    "        if type(ndf1[x][au2]) == list:\n",
    "            currentlist=ndf1[x][au2].copy()\n",
    "            random.shuffle(currentlist)\n",
    "            for y in range(int(nukey[x]['max'])):\n",
    "                newl=[0]*numofcols\n",
    "                try:\n",
    "                    for z in currentlist[y]:\n",
    "                        if z in key:\n",
    "                            newl[key.index(z)]+=1\n",
    "                except Exception:\n",
    "                    pass\n",
    "                img2.append(newl)\n",
    "        elif type(ndf1[x][au2]) == int:\n",
    "            for y in range(int(nukey[x]['max'])):\n",
    "                newl=[0]*numofcols\n",
    "                img2.append(newl)\n",
    "        elif type(ndf1[x][au2]) == str:\n",
    "            for y in range(int(nukey[x]['max'])):\n",
    "                newl=[0]*numofcols\n",
    "                if y == 0:\n",
    "                    for z in ndf1[x][au2]:\n",
    "                        if z in key:\n",
    "                            newl[key.index(z)]+=1\n",
    "                img2.append(newl)\n",
    "    for i in range(int(numofrows)):\n",
    "        img.append(img1[i]+img2[i])\n",
    "\n",
    "    return img"
   ]
  },
  {
   "cell_type": "code",
   "execution_count": null,
   "id": "12d17a6c",
   "metadata": {},
   "outputs": [],
   "source": [
    "nndata=[]\n",
    "for x in sameau:\n",
    "    nndata.append([vecto(x[0][0],x[0][1]),[x[0][0],x[0][1]],x[1]])\n",
    "for x in differentau:\n",
    "    nndata.append([vecto(x[0][0],x[0][1]),[x[0][0],x[0][1]],x[1]])\n",
    "\n",
    "for x in nndata:\n",
    "    for y in x[0]:\n",
    "        print(y)\n",
    "    for y in ndf1.columns:\n",
    "        print(ndf1[y][x[1][0]])\n",
    "    print('-------------------------------------------------------------------------------------------------------')\n",
    "    for y in ndf1.columns:\n",
    "        print(ndf1[y][x[1][1]])\n",
    "    print('-------------------------------------------------------------------------------------------------------')\n",
    "    print(x[2])\n",
    "    print('llllllllllllllllllllllllllllllllllllllllllllllllllllllllllllllllllllllllllllllllllllllllllllllllllllllll')\n",
    "    "
   ]
  },
  {
   "cell_type": "code",
   "execution_count": 54,
   "id": "523fcaf4",
   "metadata": {},
   "outputs": [],
   "source": [
    "nndata_train=[]\n",
    "for x in sameau[:5000]:\n",
    "    nndata_train.append([vecto(x[0][0],x[0][1]),x[1]])\n",
    "for x in differentau[:5000]:\n",
    "    nndata_train.append([vecto(x[0][0],x[0][1]),x[1]])\n",
    "\n",
    "nndata_test=[]\n",
    "for x in sameau[5000:]:\n",
    "    nndata_test.append([vecto(x[0][0],x[0][1]),x[1],[x[0][0],x[0][1]]])\n",
    "for x in differentau[5000:]:\n",
    "    nndata_test.append([vecto(x[0][0],x[0][1]),x[1],[x[0][0],x[0][1]]])"
   ]
  },
  {
   "cell_type": "markdown",
   "id": "ba41ab69",
   "metadata": {},
   "source": [
    "# Red Neuronal\n"
   ]
  },
  {
   "cell_type": "code",
   "execution_count": 55,
   "id": "2aa8fcf3",
   "metadata": {},
   "outputs": [],
   "source": [
    "import os\n",
    "import cv2\n",
    "import numpy as np\n",
    "import matplotlib.pyplot as plt\n",
    "from sklearn.preprocessing import LabelEncoder\n",
    "\n",
    "from tensorboard.plugins.hparams import api as hp\n",
    "import tensorflow as tf\n",
    "from collections import OrderedDict, namedtuple\n",
    "from itertools import product\n",
    "\n",
    "from tensorflow.keras.layers import Input, Dense, Activation, Flatten\n",
    "from tensorflow.keras.layers import Dropout\n",
    "from tensorflow.keras.models import Model\n",
    "\n",
    "from tensorflow.keras.preprocessing import image\n",
    "from tensorflow.keras.applications.imagenet_utils import preprocess_input\n",
    "import pydot\n",
    "from IPython.display import SVG\n",
    "from tensorflow.keras.utils import plot_model\n",
    "from tensorflow.keras.optimizers import SGD\n",
    "from tensorflow.keras.optimizers import Adam\n",
    "from datetime import datetime\n",
    "from matplotlib.pyplot import imshow\n",
    "\n",
    "import pickle\n",
    "import time\n",
    "\n",
    "from tensorflow import keras\n",
    "from tensorflow.keras import layers\n",
    "from tensorflow.keras.models import Sequential\n",
    "from tensorflow.keras.layers import Conv2D, MaxPooling2D\n",
    "from tensorflow.keras.layers import BatchNormalization\n",
    "import matplotlib\n",
    "\n",
    "from tensorflow.keras.callbacks import EarlyStopping\n",
    "import pandas as pd\n",
    "import seaborn as sns\n",
    "\n",
    "%matplotlib inline\n",
    "np.random.seed(1)"
   ]
  },
  {
   "cell_type": "code",
   "execution_count": 56,
   "id": "7d31582a",
   "metadata": {},
   "outputs": [],
   "source": [
    "random.shuffle(nndata_train)\n",
    "random.shuffle(nndata_test)"
   ]
  },
  {
   "cell_type": "code",
   "execution_count": 57,
   "id": "29f0a7ca",
   "metadata": {},
   "outputs": [],
   "source": [
    "x_te, y_te= [], []\n",
    "for x in nndata_test:\n",
    "    x_te.append(x[0])\n",
    "    y_te.append(x[1])"
   ]
  },
  {
   "cell_type": "code",
   "execution_count": 58,
   "id": "eadd2b82",
   "metadata": {},
   "outputs": [],
   "source": [
    "x_tr, y_tr= [], []\n",
    "for x in nndata_train:\n",
    "    x_tr.append(x[0])\n",
    "    y_tr.append(x[1])"
   ]
  },
  {
   "cell_type": "code",
   "execution_count": 59,
   "id": "e9a834ca",
   "metadata": {},
   "outputs": [],
   "source": [
    "x_te = np.array(x_te)\n",
    "y_te = np.array(y_te)\n",
    "x_tr = np.array(x_tr)\n",
    "y_tr = np.array(y_tr)"
   ]
  },
  {
   "cell_type": "code",
   "execution_count": null,
   "id": "24c381cd",
   "metadata": {},
   "outputs": [],
   "source": [
    "x_te.shape, y_te.shape"
   ]
  },
  {
   "cell_type": "code",
   "execution_count": null,
   "id": "6fb5c605",
   "metadata": {},
   "outputs": [],
   "source": [
    "x_tr.shape, y_tr.shape"
   ]
  },
  {
   "cell_type": "code",
   "execution_count": null,
   "id": "7fbaa386",
   "metadata": {},
   "outputs": [],
   "source": [
    "df = pd.DataFrame(data = y_tr,\n",
    "                  columns = ['label'])\n",
    "df['label'].value_counts()"
   ]
  },
  {
   "cell_type": "code",
   "execution_count": null,
   "id": "46e30859",
   "metadata": {},
   "outputs": [],
   "source": [
    "sns.countplot(x = 'label', data = df, width=0.8)"
   ]
  },
  {
   "cell_type": "code",
   "execution_count": 64,
   "id": "aebabeaa",
   "metadata": {},
   "outputs": [],
   "source": [
    "dic = {0: 'different author', 1: 'same author'}\n",
    "\n",
    "train_y = y_tr\n",
    "test_y = y_te"
   ]
  },
  {
   "cell_type": "code",
   "execution_count": 65,
   "id": "62753b7c",
   "metadata": {},
   "outputs": [],
   "source": [
    "x_train = x_tr.astype('float32') / 31.0\n",
    "x_test = x_te.astype('float32') / 31.0"
   ]
  },
  {
   "cell_type": "code",
   "execution_count": 66,
   "id": "f7a9e02b",
   "metadata": {},
   "outputs": [],
   "source": [
    "def architecture_o(input_shape, num_classes, activation, dropout=False, batch_normalization=False):\n",
    "\n",
    "    model = Sequential()\n",
    "\n",
    "    model.add(Conv2D(filters=16,\n",
    "                     kernel_size=2,\n",
    "                     padding='same',\n",
    "                     kernel_initializer='glorot_uniform',\n",
    "                     bias_initializer='zeros',\n",
    "                     input_shape=input_shape))\n",
    "\n",
    "    model.add(Activation(activation))\n",
    "    if batch_normalization:\n",
    "        model.add(BatchNormalization())\n",
    "\n",
    "    model.add(Conv2D(filters=32,kernel_size=2,padding='same',kernel_initializer='glorot_uniform',bias_initializer='zeros'))\n",
    "    model.add(Activation(activation))\n",
    "    if batch_normalization:\n",
    "        model.add(BatchNormalization())\n",
    "\n",
    "    model.add(MaxPooling2D())\n",
    "\n",
    "    model.add(Conv2D(64, 2, padding = 'same', kernel_initializer = 'glorot_uniform',bias_initializer='zeros'))\n",
    "    model.add(Activation(activation))\n",
    "    if batch_normalization:\n",
    "        model.add(BatchNormalization())\n",
    "\n",
    "    model.add(MaxPooling2D())\n",
    "\n",
    "    model.add(Flatten())\n",
    "    if dropout:\n",
    "        model.add(Dropout(0.50))\n",
    "\n",
    "    model.add(Dense(128, kernel_initializer='glorot_uniform',bias_initializer='zeros'))\n",
    "    model.add(Activation(activation))\n",
    "    if batch_normalization:\n",
    "        model.add(BatchNormalization())\n",
    "    if dropout:\n",
    "        model.add(Dropout(0.50))\n",
    "\n",
    "    model.add(Dense(num_classes))\n",
    "    model.add(Activation('sigmoid',name='Model'))\n",
    "\n",
    "    return model"
   ]
  },
  {
   "cell_type": "code",
   "execution_count": 67,
   "id": "a8c3a357",
   "metadata": {},
   "outputs": [],
   "source": [
    "one_image = (int(numofrows), numofcols*2, 1)\n",
    "activation='sigmoid'\n",
    "num_classes = 1\n",
    "dropout=True\n",
    "batch_normalization=True\n",
    "\n",
    "model = architecture_o(one_image,num_classes,activation,dropout,batch_normalization)"
   ]
  },
  {
   "cell_type": "code",
   "execution_count": null,
   "id": "258d137f",
   "metadata": {},
   "outputs": [],
   "source": [
    "plot_model(model, to_file='model.png', show_shapes=True, rankdir='TB', show_layer_names=True)"
   ]
  },
  {
   "cell_type": "code",
   "execution_count": 69,
   "id": "44f7b788",
   "metadata": {},
   "outputs": [],
   "source": [
    "learning_rate = 0.01\n",
    "\n",
    "optimizer = keras.optimizers.SGD(learning_rate=learning_rate, momentum=0.0, nesterov=False)"
   ]
  },
  {
   "cell_type": "code",
   "execution_count": 70,
   "id": "e8a92b28",
   "metadata": {},
   "outputs": [],
   "source": [
    "loss_function = 'mse'\n",
    "metric_function = 'accuracy'"
   ]
  },
  {
   "cell_type": "code",
   "execution_count": 71,
   "id": "26533295",
   "metadata": {},
   "outputs": [],
   "source": [
    "model.compile(optimizer = optimizer, loss = loss_function, metrics = [metric_function])"
   ]
  },
  {
   "cell_type": "code",
   "execution_count": null,
   "id": "e865847f",
   "metadata": {},
   "outputs": [],
   "source": [
    "start_time = time.time()\n",
    "\n",
    "validation_portion = 0.1\n",
    "batch_size=128\n",
    "num_epochs = 500\n",
    "\n",
    "callback = EarlyStopping(monitor=\"val_loss\", min_delta=0.001, patience=10, restore_best_weights=True, start_from_epoch=40)\n",
    "\n",
    "history = model.fit(x=x_train, y=train_y, epochs=num_epochs, batch_size=batch_size, \\\n",
    "                            validation_split=validation_portion, shuffle=True,\n",
    "                            callbacks=[callback], verbose=1)\n",
    "\n",
    "end_time = time.time()\n",
    "print(\"Time for training: {:10.4f}s\".format(end_time - start_time))"
   ]
  },
  {
   "cell_type": "code",
   "execution_count": null,
   "id": "d1a1aaed",
   "metadata": {},
   "outputs": [],
   "source": [
    "plt.figure(figsize=(8,6))\n",
    "\n",
    "plt.plot(history.history['loss'], color='red')\n",
    "plt.plot(history.history['val_loss'], color='blue')\n",
    "plt.title('Lr = 0.01, Dropout = 0.50')\n",
    "plt.ylabel('Cost', size=16)\n",
    "plt.xlabel('Epoch',size=16)\n",
    "plt.legend(['Train', 'Validation'], loc='upper right', fontsize=16)\n",
    "plt.show()"
   ]
  },
  {
   "cell_type": "code",
   "execution_count": null,
   "id": "2a2838ce",
   "metadata": {},
   "outputs": [],
   "source": [
    "plt.figure(figsize=(8,6))\n",
    "\n",
    "plt.plot(history.history['accuracy'], color='red')\n",
    "plt.plot(history.history['val_accuracy'], color='blue')\n",
    "plt.title('Lr = 0.01, Dropout = 0.50')\n",
    "plt.ylabel('Accuracy', size=16)\n",
    "plt.xlabel('Epoch', size=16)\n",
    "plt.legend(['Train', 'Validation'], loc='lower right', fontsize=16)\n",
    "plt.show()"
   ]
  },
  {
   "cell_type": "code",
   "execution_count": null,
   "id": "19cd555c",
   "metadata": {},
   "outputs": [],
   "source": [
    "evaluations = model.evaluate(x = x_test, y = test_y)\n",
    "\n",
    "print (\"Loss = \" + str(evaluations[0]))\n",
    "print (\"Test Accuracy = \" + str(evaluations[1]))"
   ]
  },
  {
   "cell_type": "code",
   "execution_count": null,
   "id": "2452ee87",
   "metadata": {},
   "outputs": [],
   "source": [
    "predictions = model.predict(x_test)\n",
    "sample = 3\n",
    "prediction = predictions[sample]\n",
    "\n",
    "print('Para el par', sample, 'la predicción es', prediction)\n",
    "print('El par', sample, 'son', test_y[sample])"
   ]
  },
  {
   "cell_type": "markdown",
   "id": "a52e5250",
   "metadata": {},
   "source": [
    "# Evaluación del modelo"
   ]
  },
  {
   "cell_type": "code",
   "execution_count": null,
   "id": "7e5420fe",
   "metadata": {},
   "outputs": [],
   "source": [
    "abserr=[]\n",
    "for x in range(len(predictions)):\n",
    "    if abs(test_y[x]-predictions[x][0]) > 1-evaluations[0]:\n",
    "        abserr.append(x)\n",
    "len(abserr)"
   ]
  },
  {
   "cell_type": "code",
   "execution_count": null,
   "id": "53f63866",
   "metadata": {},
   "outputs": [],
   "source": [
    "for x in abserr:\n",
    "    i1=nndata_test[x][2][0]\n",
    "    i2=nndata_test[x][2][1]\n",
    "    print(test_y[x],predictions[x][0])\n",
    "    print('-------------------------------------------------------------------')\n",
    "    for y in ndf1.columns:\n",
    "        print(y,ndf1[y][i1])\n",
    "    print('-------------------------------------------------------------------')\n",
    "    for y in ndf1.columns:\n",
    "        print(y,ndf1[y][i2])\n",
    "    print('======================================================================================================================================')"
   ]
  }
 ],
 "metadata": {
  "kernelspec": {
   "display_name": "Python 3",
   "language": "python",
   "name": "python3"
  },
  "language_info": {
   "codemirror_mode": {
    "name": "ipython",
    "version": 3
   },
   "file_extension": ".py",
   "mimetype": "text/x-python",
   "name": "python",
   "nbconvert_exporter": "python",
   "pygments_lexer": "ipython3",
   "version": "3.11.4"
  }
 },
 "nbformat": 4,
 "nbformat_minor": 5
}
