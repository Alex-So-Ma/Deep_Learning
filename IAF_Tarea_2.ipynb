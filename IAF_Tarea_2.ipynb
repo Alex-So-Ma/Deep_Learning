{
  "cells": [
    {
      "cell_type": "markdown",
      "metadata": {
        "id": "view-in-github",
        "colab_type": "text"
      },
      "source": [
        "<a href=\"https://colab.research.google.com/github/Alex-So-Ma/Deep_Learning/blob/main/IAF_Tarea_2.ipynb\" target=\"_parent\"><img src=\"https://colab.research.google.com/assets/colab-badge.svg\" alt=\"Open In Colab\"/></a>"
      ]
    },
    {
      "cell_type": "markdown",
      "id": "958c310f",
      "metadata": {
        "id": "958c310f"
      },
      "source": [
        "<font color=\"#D792FE\">\n",
        "\n",
        "## OBJETIVO\n",
        "\n",
        "\n",
        "**Construir un modelo predictivo de clasificación para la variable target (y), a partir de los atributos de cada cliente.**"
      ]
    },
    {
      "cell_type": "markdown",
      "id": "e4e8e5f2",
      "metadata": {
        "id": "e4e8e5f2"
      },
      "source": [
        "<font color=\"gray\">\n",
        "\n",
        "Se comparte una base con 20,000 registros de clientes de una institución bancaria que liquidaron un préstamo.\n",
        "\n",
        "Las variables X1:X7 son atributos característicos de cada cliente.\n",
        "\n",
        "La variable objetivo (y) es una indicadora para saber si el cliente regresó 12 meses después o no.\n",
        "\n",
        "Las variable X6:X7 son variables de tipo categóricas, el resto son numéricas"
      ]
    },
    {
      "cell_type": "markdown",
      "id": "a5d53bc9",
      "metadata": {
        "id": "a5d53bc9"
      },
      "source": [
        "#### Primero se importan las librerias que se van a utilizar"
      ]
    },
    {
      "cell_type": "code",
      "execution_count": null,
      "id": "a5b80466",
      "metadata": {
        "id": "a5b80466"
      },
      "outputs": [],
      "source": [
        "import pandas as pd\n",
        "import numpy as np\n",
        "\n",
        "import seaborn as sns\n",
        "import matplotlib.pyplot as plt\n",
        "import plotly.express as px\n",
        "\n",
        "from scipy.stats import f_oneway, pointbiserialr, chi2_contingency, ttest_ind\n",
        "\n",
        "from sklearn import preprocessing\n",
        "from sklearn.preprocessing import OneHotEncoder\n",
        "\n",
        "\n",
        "from numpy.random import seed\n",
        "seed(1)"
      ]
    },
    {
      "cell_type": "markdown",
      "id": "07849a2a",
      "metadata": {
        "id": "07849a2a"
      },
      "source": [
        "<font color=\"#D792FE\">\n",
        "\n",
        "# I. Realizar un análisis exploratorio y descriptivo de la información.\n",
        "    \n",
        "Se puede utilizar cualquier  técnica (tablas resumen, correlaciones,  cualquier apoyo visual gráfico que ejemplifiquen y describan las relaciones de las variables)"
      ]
    },
    {
      "cell_type": "markdown",
      "id": "a92f518c",
      "metadata": {
        "id": "a92f518c"
      },
      "source": [
        "#### Leemos los datos:\n",
        "\n",
        "Utiliza la función read_csv de pandas para laeer los datos y visualiza algunos registros (puedes usar head(), tail(), o sample())"
      ]
    },
    {
      "cell_type": "code",
      "execution_count": null,
      "id": "fac6815e",
      "metadata": {
        "id": "fac6815e",
        "colab": {
          "base_uri": "https://localhost:8080/"
        },
        "outputId": "3d0e8bcb-cb90-4b97-ff2c-eb55e981322f"
      },
      "outputs": [
        {
          "output_type": "stream",
          "name": "stdout",
          "text": [
            "Mounted at /content/drive\n"
          ]
        }
      ],
      "source": [
        "from google.colab import drive\n",
        "drive.mount('/content/drive')"
      ]
    },
    {
      "cell_type": "code",
      "source": [
        "df = pd.read_csv('/content/drive/MyDrive/Colab Notebooks/IA en Física/Datos_T2.csv')\n",
        "df.head()"
      ],
      "metadata": {
        "colab": {
          "base_uri": "https://localhost:8080/",
          "height": 206
        },
        "id": "y7QrG3sNdxIP",
        "outputId": "c9108ebb-a463-4f5f-ba9f-4d5562cd18cc"
      },
      "id": "y7QrG3sNdxIP",
      "execution_count": null,
      "outputs": [
        {
          "output_type": "execute_result",
          "data": {
            "text/plain": [
              "   y        x1        x2        x3        x4        x5 x6 x7\n",
              "0  0  5.954091 -1.650964  0.558865 -1.043339  0.528415  R  B\n",
              "1  1  0.940958 -1.760364  0.933968  1.670558  0.466263  R  C\n",
              "2  1 -3.560725 -2.529465  1.321317 -2.644081  0.473593  R  C\n",
              "3  0  6.664147 -2.770251  0.381800  3.289356  0.111036  R  B\n",
              "4  1 -2.069928 -1.972304  0.921576  1.459757  0.013734  R  A"
            ],
            "text/html": [
              "\n",
              "  <div id=\"df-74b847e7-e4d3-459d-baed-5aea21ec9ae1\" class=\"colab-df-container\">\n",
              "    <div>\n",
              "<style scoped>\n",
              "    .dataframe tbody tr th:only-of-type {\n",
              "        vertical-align: middle;\n",
              "    }\n",
              "\n",
              "    .dataframe tbody tr th {\n",
              "        vertical-align: top;\n",
              "    }\n",
              "\n",
              "    .dataframe thead th {\n",
              "        text-align: right;\n",
              "    }\n",
              "</style>\n",
              "<table border=\"1\" class=\"dataframe\">\n",
              "  <thead>\n",
              "    <tr style=\"text-align: right;\">\n",
              "      <th></th>\n",
              "      <th>y</th>\n",
              "      <th>x1</th>\n",
              "      <th>x2</th>\n",
              "      <th>x3</th>\n",
              "      <th>x4</th>\n",
              "      <th>x5</th>\n",
              "      <th>x6</th>\n",
              "      <th>x7</th>\n",
              "    </tr>\n",
              "  </thead>\n",
              "  <tbody>\n",
              "    <tr>\n",
              "      <th>0</th>\n",
              "      <td>0</td>\n",
              "      <td>5.954091</td>\n",
              "      <td>-1.650964</td>\n",
              "      <td>0.558865</td>\n",
              "      <td>-1.043339</td>\n",
              "      <td>0.528415</td>\n",
              "      <td>R</td>\n",
              "      <td>B</td>\n",
              "    </tr>\n",
              "    <tr>\n",
              "      <th>1</th>\n",
              "      <td>1</td>\n",
              "      <td>0.940958</td>\n",
              "      <td>-1.760364</td>\n",
              "      <td>0.933968</td>\n",
              "      <td>1.670558</td>\n",
              "      <td>0.466263</td>\n",
              "      <td>R</td>\n",
              "      <td>C</td>\n",
              "    </tr>\n",
              "    <tr>\n",
              "      <th>2</th>\n",
              "      <td>1</td>\n",
              "      <td>-3.560725</td>\n",
              "      <td>-2.529465</td>\n",
              "      <td>1.321317</td>\n",
              "      <td>-2.644081</td>\n",
              "      <td>0.473593</td>\n",
              "      <td>R</td>\n",
              "      <td>C</td>\n",
              "    </tr>\n",
              "    <tr>\n",
              "      <th>3</th>\n",
              "      <td>0</td>\n",
              "      <td>6.664147</td>\n",
              "      <td>-2.770251</td>\n",
              "      <td>0.381800</td>\n",
              "      <td>3.289356</td>\n",
              "      <td>0.111036</td>\n",
              "      <td>R</td>\n",
              "      <td>B</td>\n",
              "    </tr>\n",
              "    <tr>\n",
              "      <th>4</th>\n",
              "      <td>1</td>\n",
              "      <td>-2.069928</td>\n",
              "      <td>-1.972304</td>\n",
              "      <td>0.921576</td>\n",
              "      <td>1.459757</td>\n",
              "      <td>0.013734</td>\n",
              "      <td>R</td>\n",
              "      <td>A</td>\n",
              "    </tr>\n",
              "  </tbody>\n",
              "</table>\n",
              "</div>\n",
              "    <div class=\"colab-df-buttons\">\n",
              "\n",
              "  <div class=\"colab-df-container\">\n",
              "    <button class=\"colab-df-convert\" onclick=\"convertToInteractive('df-74b847e7-e4d3-459d-baed-5aea21ec9ae1')\"\n",
              "            title=\"Convert this dataframe to an interactive table.\"\n",
              "            style=\"display:none;\">\n",
              "\n",
              "  <svg xmlns=\"http://www.w3.org/2000/svg\" height=\"24px\" viewBox=\"0 -960 960 960\">\n",
              "    <path d=\"M120-120v-720h720v720H120Zm60-500h600v-160H180v160Zm220 220h160v-160H400v160Zm0 220h160v-160H400v160ZM180-400h160v-160H180v160Zm440 0h160v-160H620v160ZM180-180h160v-160H180v160Zm440 0h160v-160H620v160Z\"/>\n",
              "  </svg>\n",
              "    </button>\n",
              "\n",
              "  <style>\n",
              "    .colab-df-container {\n",
              "      display:flex;\n",
              "      gap: 12px;\n",
              "    }\n",
              "\n",
              "    .colab-df-convert {\n",
              "      background-color: #E8F0FE;\n",
              "      border: none;\n",
              "      border-radius: 50%;\n",
              "      cursor: pointer;\n",
              "      display: none;\n",
              "      fill: #1967D2;\n",
              "      height: 32px;\n",
              "      padding: 0 0 0 0;\n",
              "      width: 32px;\n",
              "    }\n",
              "\n",
              "    .colab-df-convert:hover {\n",
              "      background-color: #E2EBFA;\n",
              "      box-shadow: 0px 1px 2px rgba(60, 64, 67, 0.3), 0px 1px 3px 1px rgba(60, 64, 67, 0.15);\n",
              "      fill: #174EA6;\n",
              "    }\n",
              "\n",
              "    .colab-df-buttons div {\n",
              "      margin-bottom: 4px;\n",
              "    }\n",
              "\n",
              "    [theme=dark] .colab-df-convert {\n",
              "      background-color: #3B4455;\n",
              "      fill: #D2E3FC;\n",
              "    }\n",
              "\n",
              "    [theme=dark] .colab-df-convert:hover {\n",
              "      background-color: #434B5C;\n",
              "      box-shadow: 0px 1px 3px 1px rgba(0, 0, 0, 0.15);\n",
              "      filter: drop-shadow(0px 1px 2px rgba(0, 0, 0, 0.3));\n",
              "      fill: #FFFFFF;\n",
              "    }\n",
              "  </style>\n",
              "\n",
              "    <script>\n",
              "      const buttonEl =\n",
              "        document.querySelector('#df-74b847e7-e4d3-459d-baed-5aea21ec9ae1 button.colab-df-convert');\n",
              "      buttonEl.style.display =\n",
              "        google.colab.kernel.accessAllowed ? 'block' : 'none';\n",
              "\n",
              "      async function convertToInteractive(key) {\n",
              "        const element = document.querySelector('#df-74b847e7-e4d3-459d-baed-5aea21ec9ae1');\n",
              "        const dataTable =\n",
              "          await google.colab.kernel.invokeFunction('convertToInteractive',\n",
              "                                                    [key], {});\n",
              "        if (!dataTable) return;\n",
              "\n",
              "        const docLinkHtml = 'Like what you see? Visit the ' +\n",
              "          '<a target=\"_blank\" href=https://colab.research.google.com/notebooks/data_table.ipynb>data table notebook</a>'\n",
              "          + ' to learn more about interactive tables.';\n",
              "        element.innerHTML = '';\n",
              "        dataTable['output_type'] = 'display_data';\n",
              "        await google.colab.output.renderOutput(dataTable, element);\n",
              "        const docLink = document.createElement('div');\n",
              "        docLink.innerHTML = docLinkHtml;\n",
              "        element.appendChild(docLink);\n",
              "      }\n",
              "    </script>\n",
              "  </div>\n",
              "\n",
              "\n",
              "<div id=\"df-e05e4274-740d-4cc2-8812-6a12718eebdb\">\n",
              "  <button class=\"colab-df-quickchart\" onclick=\"quickchart('df-e05e4274-740d-4cc2-8812-6a12718eebdb')\"\n",
              "            title=\"Suggest charts.\"\n",
              "            style=\"display:none;\">\n",
              "\n",
              "<svg xmlns=\"http://www.w3.org/2000/svg\" height=\"24px\"viewBox=\"0 0 24 24\"\n",
              "     width=\"24px\">\n",
              "    <g>\n",
              "        <path d=\"M19 3H5c-1.1 0-2 .9-2 2v14c0 1.1.9 2 2 2h14c1.1 0 2-.9 2-2V5c0-1.1-.9-2-2-2zM9 17H7v-7h2v7zm4 0h-2V7h2v10zm4 0h-2v-4h2v4z\"/>\n",
              "    </g>\n",
              "</svg>\n",
              "  </button>\n",
              "\n",
              "<style>\n",
              "  .colab-df-quickchart {\n",
              "      --bg-color: #E8F0FE;\n",
              "      --fill-color: #1967D2;\n",
              "      --hover-bg-color: #E2EBFA;\n",
              "      --hover-fill-color: #174EA6;\n",
              "      --disabled-fill-color: #AAA;\n",
              "      --disabled-bg-color: #DDD;\n",
              "  }\n",
              "\n",
              "  [theme=dark] .colab-df-quickchart {\n",
              "      --bg-color: #3B4455;\n",
              "      --fill-color: #D2E3FC;\n",
              "      --hover-bg-color: #434B5C;\n",
              "      --hover-fill-color: #FFFFFF;\n",
              "      --disabled-bg-color: #3B4455;\n",
              "      --disabled-fill-color: #666;\n",
              "  }\n",
              "\n",
              "  .colab-df-quickchart {\n",
              "    background-color: var(--bg-color);\n",
              "    border: none;\n",
              "    border-radius: 50%;\n",
              "    cursor: pointer;\n",
              "    display: none;\n",
              "    fill: var(--fill-color);\n",
              "    height: 32px;\n",
              "    padding: 0;\n",
              "    width: 32px;\n",
              "  }\n",
              "\n",
              "  .colab-df-quickchart:hover {\n",
              "    background-color: var(--hover-bg-color);\n",
              "    box-shadow: 0 1px 2px rgba(60, 64, 67, 0.3), 0 1px 3px 1px rgba(60, 64, 67, 0.15);\n",
              "    fill: var(--button-hover-fill-color);\n",
              "  }\n",
              "\n",
              "  .colab-df-quickchart-complete:disabled,\n",
              "  .colab-df-quickchart-complete:disabled:hover {\n",
              "    background-color: var(--disabled-bg-color);\n",
              "    fill: var(--disabled-fill-color);\n",
              "    box-shadow: none;\n",
              "  }\n",
              "\n",
              "  .colab-df-spinner {\n",
              "    border: 2px solid var(--fill-color);\n",
              "    border-color: transparent;\n",
              "    border-bottom-color: var(--fill-color);\n",
              "    animation:\n",
              "      spin 1s steps(1) infinite;\n",
              "  }\n",
              "\n",
              "  @keyframes spin {\n",
              "    0% {\n",
              "      border-color: transparent;\n",
              "      border-bottom-color: var(--fill-color);\n",
              "      border-left-color: var(--fill-color);\n",
              "    }\n",
              "    20% {\n",
              "      border-color: transparent;\n",
              "      border-left-color: var(--fill-color);\n",
              "      border-top-color: var(--fill-color);\n",
              "    }\n",
              "    30% {\n",
              "      border-color: transparent;\n",
              "      border-left-color: var(--fill-color);\n",
              "      border-top-color: var(--fill-color);\n",
              "      border-right-color: var(--fill-color);\n",
              "    }\n",
              "    40% {\n",
              "      border-color: transparent;\n",
              "      border-right-color: var(--fill-color);\n",
              "      border-top-color: var(--fill-color);\n",
              "    }\n",
              "    60% {\n",
              "      border-color: transparent;\n",
              "      border-right-color: var(--fill-color);\n",
              "    }\n",
              "    80% {\n",
              "      border-color: transparent;\n",
              "      border-right-color: var(--fill-color);\n",
              "      border-bottom-color: var(--fill-color);\n",
              "    }\n",
              "    90% {\n",
              "      border-color: transparent;\n",
              "      border-bottom-color: var(--fill-color);\n",
              "    }\n",
              "  }\n",
              "</style>\n",
              "\n",
              "  <script>\n",
              "    async function quickchart(key) {\n",
              "      const quickchartButtonEl =\n",
              "        document.querySelector('#' + key + ' button');\n",
              "      quickchartButtonEl.disabled = true;  // To prevent multiple clicks.\n",
              "      quickchartButtonEl.classList.add('colab-df-spinner');\n",
              "      try {\n",
              "        const charts = await google.colab.kernel.invokeFunction(\n",
              "            'suggestCharts', [key], {});\n",
              "      } catch (error) {\n",
              "        console.error('Error during call to suggestCharts:', error);\n",
              "      }\n",
              "      quickchartButtonEl.classList.remove('colab-df-spinner');\n",
              "      quickchartButtonEl.classList.add('colab-df-quickchart-complete');\n",
              "    }\n",
              "    (() => {\n",
              "      let quickchartButtonEl =\n",
              "        document.querySelector('#df-e05e4274-740d-4cc2-8812-6a12718eebdb button');\n",
              "      quickchartButtonEl.style.display =\n",
              "        google.colab.kernel.accessAllowed ? 'block' : 'none';\n",
              "    })();\n",
              "  </script>\n",
              "</div>\n",
              "    </div>\n",
              "  </div>\n"
            ]
          },
          "metadata": {},
          "execution_count": 3
        }
      ]
    },
    {
      "cell_type": "markdown",
      "id": "37557d6c",
      "metadata": {
        "id": "37557d6c"
      },
      "source": [
        "ya identificaste a las variables numericas y categoricas?, vas por buen camino :)\n",
        "\n",
        "Las variables numéricas son x1, x2, x3, x4 y x5. Las categóricas son x6 y x7."
      ]
    },
    {
      "cell_type": "markdown",
      "id": "9d899612",
      "metadata": {
        "id": "9d899612"
      },
      "source": [
        "#### Revisamos información general de los datos\n",
        "\n",
        "Puedes utilizar el atributo info() del dataframe que definiste en la celda anterior, si no sabes qué información te esta dando, lee la [documentación](https://pandas.pydata.org/docs/reference/api/pandas.DataFrame.info.html)\n",
        "\n",
        "Hay valores faltantes en alguna columna (nan)?\n",
        "\n",
        "No\n",
        "\n",
        "Qué variables son numéricas?\n",
        "\n",
        "y que es entero, de x1 a x5 son flotantes\n",
        "\n",
        "cuáles son las variable categóricas?\n",
        "\n",
        "x6 y x7"
      ]
    },
    {
      "cell_type": "code",
      "execution_count": null,
      "id": "c049d20b",
      "metadata": {
        "id": "c049d20b",
        "colab": {
          "base_uri": "https://localhost:8080/"
        },
        "outputId": "55f80a76-9429-4337-919c-c26afdcfcb0b"
      },
      "outputs": [
        {
          "output_type": "stream",
          "name": "stdout",
          "text": [
            "<class 'pandas.core.frame.DataFrame'>\n",
            "RangeIndex: 20000 entries, 0 to 19999\n",
            "Data columns (total 8 columns):\n",
            " #   Column  Non-Null Count  Dtype  \n",
            "---  ------  --------------  -----  \n",
            " 0   y       20000 non-null  int64  \n",
            " 1   x1      20000 non-null  float64\n",
            " 2   x2      20000 non-null  float64\n",
            " 3   x3      20000 non-null  float64\n",
            " 4   x4      20000 non-null  float64\n",
            " 5   x5      20000 non-null  float64\n",
            " 6   x6      20000 non-null  object \n",
            " 7   x7      20000 non-null  object \n",
            "dtypes: float64(5), int64(1), object(2)\n",
            "memory usage: 1.2+ MB\n"
          ]
        }
      ],
      "source": [
        "df.info()"
      ]
    },
    {
      "cell_type": "markdown",
      "id": "7a454a09",
      "metadata": {
        "id": "7a454a09"
      },
      "source": [
        "#### Revisamos qué valores tienen las variables categóricas\n",
        "\n",
        "Qué valores toma la variable x6?\n",
        "\n",
        "R y AA\n",
        "\n",
        "Qué valores toma la variable x7?\n",
        "\n",
        "B, C, A y D\n",
        "\n",
        "Puedes utilizar el atributo [.unique()](https://pandas.pydata.org/docs/reference/api/pandas.unique.html) para conocer los valores únicos en una columna, por ejemplo, para ver los valores de la columna c del dataframe df se usa la sintaxis: `df['c'].unique()`"
      ]
    },
    {
      "cell_type": "code",
      "execution_count": null,
      "id": "5d6e395b",
      "metadata": {
        "id": "5d6e395b",
        "colab": {
          "base_uri": "https://localhost:8080/"
        },
        "outputId": "9150bbb9-95a0-4dd7-875a-5d16f9c4ea1b"
      },
      "outputs": [
        {
          "output_type": "execute_result",
          "data": {
            "text/plain": [
              "array(['R', 'AA'], dtype=object)"
            ]
          },
          "metadata": {},
          "execution_count": 9
        }
      ],
      "source": [
        "df['x6'].unique()"
      ]
    },
    {
      "cell_type": "code",
      "source": [
        "df['x7'].unique()"
      ],
      "metadata": {
        "colab": {
          "base_uri": "https://localhost:8080/"
        },
        "id": "EZurjVtRwM_P",
        "outputId": "076fd300-1db2-4534-d1cc-2984acfacf7e"
      },
      "id": "EZurjVtRwM_P",
      "execution_count": null,
      "outputs": [
        {
          "output_type": "execute_result",
          "data": {
            "text/plain": [
              "array(['B', 'C', 'A', 'D'], dtype=object)"
            ]
          },
          "metadata": {},
          "execution_count": 6
        }
      ]
    },
    {
      "cell_type": "markdown",
      "id": "21526272",
      "metadata": {
        "id": "21526272"
      },
      "source": [
        "### Observamos que los datos estan sesgados\n",
        "\n",
        "Cuántas muestras son de tipo y=0 y cuántas de tipo y=1?\n",
        "\n",
        "utiliza el atributo [value_counts()](https://pandas.pydata.org/docs/reference/api/pandas.Series.value_counts.html), sintxis: `df['columna'].value_counts()` para  responder esta pregunta"
      ]
    },
    {
      "cell_type": "code",
      "execution_count": null,
      "id": "cc872bbc",
      "metadata": {
        "id": "cc872bbc",
        "colab": {
          "base_uri": "https://localhost:8080/"
        },
        "outputId": "173274c3-3400-4892-dc0b-f046bde1c065"
      },
      "outputs": [
        {
          "output_type": "execute_result",
          "data": {
            "text/plain": [
              "0    12703\n",
              "1     7297\n",
              "Name: y, dtype: int64"
            ]
          },
          "metadata": {},
          "execution_count": 7
        }
      ],
      "source": [
        "df['y'].value_counts()"
      ]
    },
    {
      "cell_type": "code",
      "execution_count": null,
      "id": "b763e4ea",
      "metadata": {
        "id": "b763e4ea",
        "colab": {
          "base_uri": "https://localhost:8080/",
          "height": 449
        },
        "outputId": "a9d392b2-1e07-42fa-abc4-bd475b06d928"
      },
      "outputs": [
        {
          "output_type": "display_data",
          "data": {
            "text/plain": [
              "<Figure size 640x480 with 1 Axes>"
            ],
            "image/png": "[encoded data removed]"
          },
          "metadata": {}
        }
      ],
      "source": [
        "# otra forma de verlo es con la siguiente visualización\n",
        "sns.countplot(x = 'y', data = df, palette='Set1');"
      ]
    },
    {
      "cell_type": "markdown",
      "id": "f8eaaaeb",
      "metadata": {
        "id": "f8eaaaeb"
      },
      "source": [
        "De qué datos se tienen más muestras?\n",
        "\n",
        "De los datos con y=0, que supongo es la gente que no regresa."
      ]
    },
    {
      "cell_type": "markdown",
      "id": "6d938dab",
      "metadata": {
        "id": "6d938dab"
      },
      "source": [
        "## Datos estadísticos de cada variable\n",
        "\n",
        "Hay datos faltantes? cuántos registros tiene cada variable?\n",
        "\n",
        "No, todos tienen 20,000\n",
        "\n",
        "De qué orden de magnitud son las variables x2 y x5? son comparables?\n",
        "\n",
        "Si nos fijamos en el intervalo de las dos variables, el de x2 es ~3 veces más grande que el intervalo de x5. Además, el valor absoluto máximo de dos es ~3.6 y el de x5 es ~0.98\n",
        "\n",
        "Qué tipo de valores toma la variable x2?\n",
        "\n",
        "Valores flotantes en el intervalo [-3.26,-0.27]\n",
        "\n",
        "Cómo es la distribución de x1,x2 y x4?, estan sesgadas?\n",
        "\n",
        "PArecen ser distribuciones normales sin sesgo.\n",
        "\n",
        "qué tipo de distribución tienen las variables x3 y x5? estan sesgadas?\n",
        "\n",
        "Distribución normal sesgada.\n",
        "\n",
        "Para la variable categorica x6, qué porcentaje representan los datos de tipo R?\n",
        "\n",
        "~80%\n",
        "\n",
        "Para la variable categorica x7, qué porcentaje representan los datos de tipo C?\n",
        "\n",
        "~44%\n",
        "\n",
        "Puedes responder las preguntas anteriores utilizando [describe()](https://pandas.pydata.org/docs/reference/api/pandas.DataFrame.describe.html)\n",
        "\n",
        "Asegurate de que al utilizar describe() se despliegue información de todas las columnas, sin importar si son categoricas"
      ]
    },
    {
      "cell_type": "code",
      "execution_count": null,
      "id": "e411575e",
      "metadata": {
        "scrolled": true,
        "id": "e411575e",
        "colab": {
          "base_uri": "https://localhost:8080/",
          "height": 394
        },
        "outputId": "326dbd8d-a241-4a04-81e1-24427f1536db"
      },
      "outputs": [
        {
          "output_type": "execute_result",
          "data": {
            "text/plain": [
              "                  y            x1            x2            x3            x4  \\\n",
              "count   20000.00000  20000.000000  20000.000000  20000.000000  20000.000000   \n",
              "unique          NaN           NaN           NaN           NaN           NaN   \n",
              "top             NaN           NaN           NaN           NaN           NaN   \n",
              "freq            NaN           NaN           NaN           NaN           NaN   \n",
              "mean        0.36485      2.909159     -1.999474      0.747256      0.000814   \n",
              "std         0.48140      4.013939      0.398699      0.433852      1.208778   \n",
              "min         0.00000    -13.700048     -3.603709      0.016992     -5.494687   \n",
              "25%         0.00000      0.211205     -2.267745      0.427012     -0.797362   \n",
              "50%         0.00000      2.904014     -2.001851      0.667472     -0.007878   \n",
              "75%         1.00000      5.604197     -1.731864      0.976899      0.820885   \n",
              "max         1.00000     19.188577     -0.278753      4.399445      4.774762   \n",
              "\n",
              "                  x5     x6     x7  \n",
              "count   20000.000000  20000  20000  \n",
              "unique           NaN      2      4  \n",
              "top              NaN      R      C  \n",
              "freq             NaN  15971   8844  \n",
              "mean        0.247258    NaN    NaN  \n",
              "std         0.192165    NaN    NaN  \n",
              "min         0.000013    NaN    NaN  \n",
              "25%         0.090209    NaN    NaN  \n",
              "50%         0.203482    NaN    NaN  \n",
              "75%         0.367284    NaN    NaN  \n",
              "max         0.980868    NaN    NaN  "
            ],
            "text/html": [
              "\n",
              "  <div id=\"df-ecc13d41-1ff2-41ae-91e7-638c41a9a826\" class=\"colab-df-container\">\n",
              "    <div>\n",
              "<style scoped>\n",
              "    .dataframe tbody tr th:only-of-type {\n",
              "        vertical-align: middle;\n",
              "    }\n",
              "\n",
              "    .dataframe tbody tr th {\n",
              "        vertical-align: top;\n",
              "    }\n",
              "\n",
              "    .dataframe thead th {\n",
              "        text-align: right;\n",
              "    }\n",
              "</style>\n",
              "<table border=\"1\" class=\"dataframe\">\n",
              "  <thead>\n",
              "    <tr style=\"text-align: right;\">\n",
              "      <th></th>\n",
              "      <th>y</th>\n",
              "      <th>x1</th>\n",
              "      <th>x2</th>\n",
              "      <th>x3</th>\n",
              "      <th>x4</th>\n",
              "      <th>x5</th>\n",
              "      <th>x6</th>\n",
              "      <th>x7</th>\n",
              "    </tr>\n",
              "  </thead>\n",
              "  <tbody>\n",
              "    <tr>\n",
              "      <th>count</th>\n",
              "      <td>20000.00000</td>\n",
              "      <td>20000.000000</td>\n",
              "      <td>20000.000000</td>\n",
              "      <td>20000.000000</td>\n",
              "      <td>20000.000000</td>\n",
              "      <td>20000.000000</td>\n",
              "      <td>20000</td>\n",
              "      <td>20000</td>\n",
              "    </tr>\n",
              "    <tr>\n",
              "      <th>unique</th>\n",
              "      <td>NaN</td>\n",
              "      <td>NaN</td>\n",
              "      <td>NaN</td>\n",
              "      <td>NaN</td>\n",
              "      <td>NaN</td>\n",
              "      <td>NaN</td>\n",
              "      <td>2</td>\n",
              "      <td>4</td>\n",
              "    </tr>\n",
              "    <tr>\n",
              "      <th>top</th>\n",
              "      <td>NaN</td>\n",
              "      <td>NaN</td>\n",
              "      <td>NaN</td>\n",
              "      <td>NaN</td>\n",
              "      <td>NaN</td>\n",
              "      <td>NaN</td>\n",
              "      <td>R</td>\n",
              "      <td>C</td>\n",
              "    </tr>\n",
              "    <tr>\n",
              "      <th>freq</th>\n",
              "      <td>NaN</td>\n",
              "      <td>NaN</td>\n",
              "      <td>NaN</td>\n",
              "      <td>NaN</td>\n",
              "      <td>NaN</td>\n",
              "      <td>NaN</td>\n",
              "      <td>15971</td>\n",
              "      <td>8844</td>\n",
              "    </tr>\n",
              "    <tr>\n",
              "      <th>mean</th>\n",
              "      <td>0.36485</td>\n",
              "      <td>2.909159</td>\n",
              "      <td>-1.999474</td>\n",
              "      <td>0.747256</td>\n",
              "      <td>0.000814</td>\n",
              "      <td>0.247258</td>\n",
              "      <td>NaN</td>\n",
              "      <td>NaN</td>\n",
              "    </tr>\n",
              "    <tr>\n",
              "      <th>std</th>\n",
              "      <td>0.48140</td>\n",
              "      <td>4.013939</td>\n",
              "      <td>0.398699</td>\n",
              "      <td>0.433852</td>\n",
              "      <td>1.208778</td>\n",
              "      <td>0.192165</td>\n",
              "      <td>NaN</td>\n",
              "      <td>NaN</td>\n",
              "    </tr>\n",
              "    <tr>\n",
              "      <th>min</th>\n",
              "      <td>0.00000</td>\n",
              "      <td>-13.700048</td>\n",
              "      <td>-3.603709</td>\n",
              "      <td>0.016992</td>\n",
              "      <td>-5.494687</td>\n",
              "      <td>0.000013</td>\n",
              "      <td>NaN</td>\n",
              "      <td>NaN</td>\n",
              "    </tr>\n",
              "    <tr>\n",
              "      <th>25%</th>\n",
              "      <td>0.00000</td>\n",
              "      <td>0.211205</td>\n",
              "      <td>-2.267745</td>\n",
              "      <td>0.427012</td>\n",
              "      <td>-0.797362</td>\n",
              "      <td>0.090209</td>\n",
              "      <td>NaN</td>\n",
              "      <td>NaN</td>\n",
              "    </tr>\n",
              "    <tr>\n",
              "      <th>50%</th>\n",
              "      <td>0.00000</td>\n",
              "      <td>2.904014</td>\n",
              "      <td>-2.001851</td>\n",
              "      <td>0.667472</td>\n",
              "      <td>-0.007878</td>\n",
              "      <td>0.203482</td>\n",
              "      <td>NaN</td>\n",
              "      <td>NaN</td>\n",
              "    </tr>\n",
              "    <tr>\n",
              "      <th>75%</th>\n",
              "      <td>1.00000</td>\n",
              "      <td>5.604197</td>\n",
              "      <td>-1.731864</td>\n",
              "      <td>0.976899</td>\n",
              "      <td>0.820885</td>\n",
              "      <td>0.367284</td>\n",
              "      <td>NaN</td>\n",
              "      <td>NaN</td>\n",
              "    </tr>\n",
              "    <tr>\n",
              "      <th>max</th>\n",
              "      <td>1.00000</td>\n",
              "      <td>19.188577</td>\n",
              "      <td>-0.278753</td>\n",
              "      <td>4.399445</td>\n",
              "      <td>4.774762</td>\n",
              "      <td>0.980868</td>\n",
              "      <td>NaN</td>\n",
              "      <td>NaN</td>\n",
              "    </tr>\n",
              "  </tbody>\n",
              "</table>\n",
              "</div>\n",
              "    <div class=\"colab-df-buttons\">\n",
              "\n",
              "  <div class=\"colab-df-container\">\n",
              "    <button class=\"colab-df-convert\" onclick=\"convertToInteractive('df-ecc13d41-1ff2-41ae-91e7-638c41a9a826')\"\n",
              "            title=\"Convert this dataframe to an interactive table.\"\n",
              "            style=\"display:none;\">\n",
              "\n",
              "  <svg xmlns=\"http://www.w3.org/2000/svg\" height=\"24px\" viewBox=\"0 -960 960 960\">\n",
              "    <path d=\"M120-120v-720h720v720H120Zm60-500h600v-160H180v160Zm220 220h160v-160H400v160Zm0 220h160v-160H400v160ZM180-400h160v-160H180v160Zm440 0h160v-160H620v160ZM180-180h160v-160H180v160Zm440 0h160v-160H620v160Z\"/>\n",
              "  </svg>\n",
              "    </button>\n",
              "\n",
              "  <style>\n",
              "    .colab-df-container {\n",
              "      display:flex;\n",
              "      gap: 12px;\n",
              "    }\n",
              "\n",
              "    .colab-df-convert {\n",
              "      background-color: #E8F0FE;\n",
              "      border: none;\n",
              "      border-radius: 50%;\n",
              "      cursor: pointer;\n",
              "      display: none;\n",
              "      fill: #1967D2;\n",
              "      height: 32px;\n",
              "      padding: 0 0 0 0;\n",
              "      width: 32px;\n",
              "    }\n",
              "\n",
              "    .colab-df-convert:hover {\n",
              "      background-color: #E2EBFA;\n",
              "      box-shadow: 0px 1px 2px rgba(60, 64, 67, 0.3), 0px 1px 3px 1px rgba(60, 64, 67, 0.15);\n",
              "      fill: #174EA6;\n",
              "    }\n",
              "\n",
              "    .colab-df-buttons div {\n",
              "      margin-bottom: 4px;\n",
              "    }\n",
              "\n",
              "    [theme=dark] .colab-df-convert {\n",
              "      background-color: #3B4455;\n",
              "      fill: #D2E3FC;\n",
              "    }\n",
              "\n",
              "    [theme=dark] .colab-df-convert:hover {\n",
              "      background-color: #434B5C;\n",
              "      box-shadow: 0px 1px 3px 1px rgba(0, 0, 0, 0.15);\n",
              "      filter: drop-shadow(0px 1px 2px rgba(0, 0, 0, 0.3));\n",
              "      fill: #FFFFFF;\n",
              "    }\n",
              "  </style>\n",
              "\n",
              "    <script>\n",
              "      const buttonEl =\n",
              "        document.querySelector('#df-ecc13d41-1ff2-41ae-91e7-638c41a9a826 button.colab-df-convert');\n",
              "      buttonEl.style.display =\n",
              "        google.colab.kernel.accessAllowed ? 'block' : 'none';\n",
              "\n",
              "      async function convertToInteractive(key) {\n",
              "        const element = document.querySelector('#df-ecc13d41-1ff2-41ae-91e7-638c41a9a826');\n",
              "        const dataTable =\n",
              "          await google.colab.kernel.invokeFunction('convertToInteractive',\n",
              "                                                    [key], {});\n",
              "        if (!dataTable) return;\n",
              "\n",
              "        const docLinkHtml = 'Like what you see? Visit the ' +\n",
              "          '<a target=\"_blank\" href=https://colab.research.google.com/notebooks/data_table.ipynb>data table notebook</a>'\n",
              "          + ' to learn more about interactive tables.';\n",
              "        element.innerHTML = '';\n",
              "        dataTable['output_type'] = 'display_data';\n",
              "        await google.colab.output.renderOutput(dataTable, element);\n",
              "        const docLink = document.createElement('div');\n",
              "        docLink.innerHTML = docLinkHtml;\n",
              "        element.appendChild(docLink);\n",
              "      }\n",
              "    </script>\n",
              "  </div>\n",
              "\n",
              "\n",
              "<div id=\"df-884ac3e6-b470-4148-8fdd-5c2a19d5852c\">\n",
              "  <button class=\"colab-df-quickchart\" onclick=\"quickchart('df-884ac3e6-b470-4148-8fdd-5c2a19d5852c')\"\n",
              "            title=\"Suggest charts.\"\n",
              "            style=\"display:none;\">\n",
              "\n",
              "<svg xmlns=\"http://www.w3.org/2000/svg\" height=\"24px\"viewBox=\"0 0 24 24\"\n",
              "     width=\"24px\">\n",
              "    <g>\n",
              "        <path d=\"M19 3H5c-1.1 0-2 .9-2 2v14c0 1.1.9 2 2 2h14c1.1 0 2-.9 2-2V5c0-1.1-.9-2-2-2zM9 17H7v-7h2v7zm4 0h-2V7h2v10zm4 0h-2v-4h2v4z\"/>\n",
              "    </g>\n",
              "</svg>\n",
              "  </button>\n",
              "\n",
              "<style>\n",
              "  .colab-df-quickchart {\n",
              "      --bg-color: #E8F0FE;\n",
              "      --fill-color: #1967D2;\n",
              "      --hover-bg-color: #E2EBFA;\n",
              "      --hover-fill-color: #174EA6;\n",
              "      --disabled-fill-color: #AAA;\n",
              "      --disabled-bg-color: #DDD;\n",
              "  }\n",
              "\n",
              "  [theme=dark] .colab-df-quickchart {\n",
              "      --bg-color: #3B4455;\n",
              "      --fill-color: #D2E3FC;\n",
              "      --hover-bg-color: #434B5C;\n",
              "      --hover-fill-color: #FFFFFF;\n",
              "      --disabled-bg-color: #3B4455;\n",
              "      --disabled-fill-color: #666;\n",
              "  }\n",
              "\n",
              "  .colab-df-quickchart {\n",
              "    background-color: var(--bg-color);\n",
              "    border: none;\n",
              "    border-radius: 50%;\n",
              "    cursor: pointer;\n",
              "    display: none;\n",
              "    fill: var(--fill-color);\n",
              "    height: 32px;\n",
              "    padding: 0;\n",
              "    width: 32px;\n",
              "  }\n",
              "\n",
              "  .colab-df-quickchart:hover {\n",
              "    background-color: var(--hover-bg-color);\n",
              "    box-shadow: 0 1px 2px rgba(60, 64, 67, 0.3), 0 1px 3px 1px rgba(60, 64, 67, 0.15);\n",
              "    fill: var(--button-hover-fill-color);\n",
              "  }\n",
              "\n",
              "  .colab-df-quickchart-complete:disabled,\n",
              "  .colab-df-quickchart-complete:disabled:hover {\n",
              "    background-color: var(--disabled-bg-color);\n",
              "    fill: var(--disabled-fill-color);\n",
              "    box-shadow: none;\n",
              "  }\n",
              "\n",
              "  .colab-df-spinner {\n",
              "    border: 2px solid var(--fill-color);\n",
              "    border-color: transparent;\n",
              "    border-bottom-color: var(--fill-color);\n",
              "    animation:\n",
              "      spin 1s steps(1) infinite;\n",
              "  }\n",
              "\n",
              "  @keyframes spin {\n",
              "    0% {\n",
              "      border-color: transparent;\n",
              "      border-bottom-color: var(--fill-color);\n",
              "      border-left-color: var(--fill-color);\n",
              "    }\n",
              "    20% {\n",
              "      border-color: transparent;\n",
              "      border-left-color: var(--fill-color);\n",
              "      border-top-color: var(--fill-color);\n",
              "    }\n",
              "    30% {\n",
              "      border-color: transparent;\n",
              "      border-left-color: var(--fill-color);\n",
              "      border-top-color: var(--fill-color);\n",
              "      border-right-color: var(--fill-color);\n",
              "    }\n",
              "    40% {\n",
              "      border-color: transparent;\n",
              "      border-right-color: var(--fill-color);\n",
              "      border-top-color: var(--fill-color);\n",
              "    }\n",
              "    60% {\n",
              "      border-color: transparent;\n",
              "      border-right-color: var(--fill-color);\n",
              "    }\n",
              "    80% {\n",
              "      border-color: transparent;\n",
              "      border-right-color: var(--fill-color);\n",
              "      border-bottom-color: var(--fill-color);\n",
              "    }\n",
              "    90% {\n",
              "      border-color: transparent;\n",
              "      border-bottom-color: var(--fill-color);\n",
              "    }\n",
              "  }\n",
              "</style>\n",
              "\n",
              "  <script>\n",
              "    async function quickchart(key) {\n",
              "      const quickchartButtonEl =\n",
              "        document.querySelector('#' + key + ' button');\n",
              "      quickchartButtonEl.disabled = true;  // To prevent multiple clicks.\n",
              "      quickchartButtonEl.classList.add('colab-df-spinner');\n",
              "      try {\n",
              "        const charts = await google.colab.kernel.invokeFunction(\n",
              "            'suggestCharts', [key], {});\n",
              "      } catch (error) {\n",
              "        console.error('Error during call to suggestCharts:', error);\n",
              "      }\n",
              "      quickchartButtonEl.classList.remove('colab-df-spinner');\n",
              "      quickchartButtonEl.classList.add('colab-df-quickchart-complete');\n",
              "    }\n",
              "    (() => {\n",
              "      let quickchartButtonEl =\n",
              "        document.querySelector('#df-884ac3e6-b470-4148-8fdd-5c2a19d5852c button');\n",
              "      quickchartButtonEl.style.display =\n",
              "        google.colab.kernel.accessAllowed ? 'block' : 'none';\n",
              "    })();\n",
              "  </script>\n",
              "</div>\n",
              "    </div>\n",
              "  </div>\n"
            ]
          },
          "metadata": {},
          "execution_count": 10
        }
      ],
      "source": [
        "df.describe(include='all')"
      ]
    },
    {
      "cell_type": "code",
      "source": [
        "for i, col in enumerate(df.columns[1:6]):\n",
        "    plt.figure(i)\n",
        "    sns.boxplot(y = col, data = df, palette = 'Set1')"
      ],
      "metadata": {
        "colab": {
          "base_uri": "https://localhost:8080/",
          "height": 1000
        },
        "id": "sYM6A_YejlEy",
        "outputId": "a8a127c5-db6d-44c7-cab5-2e6c2a9aa484"
      },
      "id": "sYM6A_YejlEy",
      "execution_count": null,
      "outputs": [
        {
          "output_type": "display_data",
          "data": {
            "text/plain": [
              "<Figure size 640x480 with 1 Axes>"
            ],
            "image/png": "[encoded data removed]"
          },
          "metadata": {}
        },
        {
          "output_type": "display_data",
          "data": {
            "text/plain": [
              "<Figure size 640x480 with 1 Axes>"
            ],
            "image/png": "[encoded data removed]"
          },
          "metadata": {}
        },
        {
          "output_type": "display_data",
          "data": {
            "text/plain": [
              "<Figure size 640x480 with 1 Axes>"
            ],
            "image/png": "[encoded data removed]"
          },
          "metadata": {}
        },
        {
          "output_type": "display_data",
          "data": {
            "text/plain": [
              "<Figure size 640x480 with 1 Axes>"
            ],
            "image/png": "[encoded data removed]"
          },
          "metadata": {}
        },
        {
          "output_type": "display_data",
          "data": {
            "text/plain": [
              "<Figure size 640x480 with 1 Axes>"
            ],
            "image/png": "[encoded data removed]"
          },
          "metadata": {}
        }
      ]
    },
    {
      "cell_type": "markdown",
      "id": "9dbff58f",
      "metadata": {
        "id": "9dbff58f"
      },
      "source": [
        "Se tienen valores atípicos (outliers)?\n",
        "\n",
        "Sí, se ven en los diagramas de caja\n",
        "\n",
        "\n",
        "[boxplot](https://seaborn.pydata.org/generated/seaborn.boxplot.html)"
      ]
    },
    {
      "cell_type": "code",
      "execution_count": null,
      "id": "94c573e4",
      "metadata": {
        "id": "94c573e4",
        "colab": {
          "base_uri": "https://localhost:8080/",
          "height": 466
        },
        "outputId": "b8021d4d-4df5-4f05-d5a6-c83a580696e6"
      },
      "outputs": [
        {
          "output_type": "execute_result",
          "data": {
            "text/plain": [
              "<Axes: xlabel='y', ylabel='x1'>"
            ]
          },
          "metadata": {},
          "execution_count": 12
        },
        {
          "output_type": "display_data",
          "data": {
            "text/plain": [
              "<Figure size 640x480 with 1 Axes>"
            ],
            "image/png": "[encoded data removed]"
          },
          "metadata": {}
        }
      ],
      "source": [
        "sns.boxplot(y = 'x1', x = 'y', data = df, palette = 'Set1')"
      ]
    },
    {
      "cell_type": "markdown",
      "id": "639cf61a",
      "metadata": {
        "id": "639cf61a"
      },
      "source": [
        "Realiza una grafica como la anterior para las demas variables numéricas, qué información puedes obtener de esta visualización?\n",
        "\n",
        "Como cambia la informacion en cada variable según el valor de y\n",
        "\n",
        "Qué variables parecen diferenciar a la variable de interes y?\n",
        "\n",
        "x1 parace ser la que da mayor diferencia y en menor medida x2 y x3"
      ]
    },
    {
      "cell_type": "code",
      "execution_count": null,
      "id": "b085319c",
      "metadata": {
        "id": "b085319c",
        "colab": {
          "base_uri": "https://localhost:8080/",
          "height": 1000
        },
        "outputId": "1717f06b-1ccb-49b8-abad-e91758a94b6b"
      },
      "outputs": [
        {
          "output_type": "display_data",
          "data": {
            "text/plain": [
              "<Figure size 640x480 with 1 Axes>"
            ],
            "image/png": "[encoded data removed]"
          },
          "metadata": {}
        },
        {
          "output_type": "display_data",
          "data": {
            "text/plain": [
              "<Figure size 640x480 with 1 Axes>"
            ],
            "image/png": "[encoded data removed]"
          },
          "metadata": {}
        },
        {
          "output_type": "display_data",
          "data": {
            "text/plain": [
              "<Figure size 640x480 with 1 Axes>"
            ],
            "image/png": "[encoded data removed]"
          },
          "metadata": {}
        },
        {
          "output_type": "display_data",
          "data": {
            "text/plain": [
              "<Figure size 640x480 with 1 Axes>"
            ],
            "image/png": "[encoded data removed]"
          },
          "metadata": {}
        }
      ],
      "source": [
        "for i, col in enumerate(df.columns[2:6]):\n",
        "    plt.figure(i)\n",
        "    sns.boxplot(y = col, x = 'y', data = df, palette = 'Set1')"
      ]
    },
    {
      "cell_type": "markdown",
      "id": "96dcc381",
      "metadata": {
        "id": "96dcc381"
      },
      "source": [
        "### Revisamos si las variables categóricas tienen un impacto en los clientes\n",
        "\n",
        "A ojo parecen tener un comportamiento muy similar en 0 y en 1, solo que en diferentes proporciones pero es porque tenemos más información para clientes 0 que para clientes 1"
      ]
    },
    {
      "cell_type": "code",
      "execution_count": null,
      "id": "394201e1",
      "metadata": {
        "id": "394201e1",
        "colab": {
          "base_uri": "https://localhost:8080/",
          "height": 466
        },
        "outputId": "bc4df0b3-3321-448b-8107-de1ce7bd5dae"
      },
      "outputs": [
        {
          "output_type": "execute_result",
          "data": {
            "text/plain": [
              "<Axes: xlabel='y', ylabel='count'>"
            ]
          },
          "metadata": {},
          "execution_count": 52
        },
        {
          "output_type": "display_data",
          "data": {
            "text/plain": [
              "<Figure size 640x480 with 1 Axes>"
            ],
            "image/png": "[encoded data removed]"
          },
          "metadata": {}
        }
      ],
      "source": [
        "sns.countplot(x = 'y', hue = 'x6', data = df, palette='Set1')"
      ]
    },
    {
      "cell_type": "markdown",
      "id": "3eacabf8",
      "metadata": {
        "id": "3eacabf8"
      },
      "source": [
        "Realiza una grafica como la anterior para las demas variables x7, qué información puedes obtener de esta visualización?\n",
        "\n",
        "Lo mismo, para cada uno de los valores de x7 podemos ver que tenemos más información de y=0\n",
        "\n",
        "hay alguna categoria de esta variable que parezca diferenciar a la variable independiente y?\n",
        "\n",
        "Aparentemente no."
      ]
    },
    {
      "cell_type": "code",
      "execution_count": null,
      "id": "de8192cc",
      "metadata": {
        "id": "de8192cc",
        "colab": {
          "base_uri": "https://localhost:8080/",
          "height": 466
        },
        "outputId": "f22dd4f8-ad44-4434-a522-1b2769d848b3"
      },
      "outputs": [
        {
          "output_type": "execute_result",
          "data": {
            "text/plain": [
              "<Axes: xlabel='y', ylabel='count'>"
            ]
          },
          "metadata": {},
          "execution_count": 54
        },
        {
          "output_type": "display_data",
          "data": {
            "text/plain": [
              "<Figure size 640x480 with 1 Axes>"
            ],
            "image/png": "[encoded data removed]"
          },
          "metadata": {}
        }
      ],
      "source": [
        "sns.countplot(x = 'y', hue = 'x7', data = df, palette='Set1')"
      ]
    },
    {
      "cell_type": "markdown",
      "id": "c187b225",
      "metadata": {
        "id": "c187b225"
      },
      "source": [
        "Para no hacerlo a ojo, obten ;a relación entre las categorías: por ejemplo para la variable x6\n",
        "\n",
        "La relación entre R y AA en 0 y 1 es practicamente la misma, 0.58, por lo que podemos intuir que esta variable no es significativa para saber si un cliente regreso 12 meses después de haber liquidado un credito."
      ]
    },
    {
      "cell_type": "code",
      "execution_count": null,
      "id": "0ecc95f5",
      "metadata": {
        "id": "0ecc95f5",
        "colab": {
          "base_uri": "https://localhost:8080/"
        },
        "outputId": "d55b5037-41ad-4ce2-f5f2-d1a0bb146e68"
      },
      "outputs": [
        {
          "output_type": "execute_result",
          "data": {
            "text/plain": [
              "y  x6\n",
              "0  R     10155\n",
              "   AA     2548\n",
              "1  R      5816\n",
              "   AA     1481\n",
              "Name: x6, dtype: int64"
            ]
          },
          "metadata": {},
          "execution_count": 56
        }
      ],
      "source": [
        "df.groupby('y')['x6'].value_counts()"
      ]
    },
    {
      "cell_type": "markdown",
      "id": "2b603431",
      "metadata": {
        "id": "2b603431"
      },
      "source": [
        "Realiza algo similar para la otra variable categorica"
      ]
    },
    {
      "cell_type": "code",
      "execution_count": null,
      "id": "9682b576",
      "metadata": {
        "id": "9682b576",
        "colab": {
          "base_uri": "https://localhost:8080/"
        },
        "outputId": "66814bab-9fac-40cb-85d0-f1bb8c0e0925"
      },
      "outputs": [
        {
          "output_type": "execute_result",
          "data": {
            "text/plain": [
              "y  x7\n",
              "0  C     5517\n",
              "   D     4351\n",
              "   B     2477\n",
              "   A      358\n",
              "1  C     3327\n",
              "   D     2464\n",
              "   B     1320\n",
              "   A      186\n",
              "Name: x7, dtype: int64"
            ]
          },
          "metadata": {},
          "execution_count": 57
        }
      ],
      "source": [
        "df.groupby('y')['x7'].value_counts()"
      ]
    },
    {
      "cell_type": "markdown",
      "id": "a3c592b0",
      "metadata": {
        "id": "a3c592b0"
      },
      "source": [
        "## Correlación entre las variables"
      ]
    },
    {
      "cell_type": "markdown",
      "id": "bc273df3",
      "metadata": {
        "id": "bc273df3"
      },
      "source": [
        "### Correlación entre las variables utilizando el coeficiente Pearson y el coeficiente biserial\n",
        "\n",
        "Explica en pocas palabras qué es el coeficiente pearson y el coeficiente biserial (googlealo)\n",
        "\n",
        "Coeficiente pearson: una prueba que mide la relación estadística entre dos variables continuas. Si la asociación entre los elementos no es lineal, entonces el coeficiente no se encuentra representado adecuadamente. El coeficiente de correlación puede tomar un rango de valores de +1 a -1.\n",
        "\n",
        "Coeficiente biserial: se utiliza cuando queremos conocer la correlación existente entre dos variables, de las cuales una ha sido considerada como escala de intervalos y la otra resulta ser una variable dicotómica (significa que toma dos modalidades. Ej: sexo, si o no, etc). , es mayor que la unidad.\n",
        "\n",
        "Qué variables tienen una mayor correlación con y?, responde esta pregunta con la siguiente visualización\n",
        "\n",
        "x1 es la que más correlación tiene (correlación negativa), de ahí le sige x3 y luego x2 (ambas con correlación positiva). x4 y x5 tiene los valores más cercanos al 0, entoces tienen menos correlación."
      ]
    },
    {
      "cell_type": "code",
      "execution_count": null,
      "id": "071617fe",
      "metadata": {
        "id": "071617fe",
        "colab": {
          "base_uri": "https://localhost:8080/",
          "height": 631
        },
        "outputId": "4fab5e7b-c800-431e-8b41-0dd59bc649a2"
      },
      "outputs": [
        {
          "output_type": "stream",
          "name": "stderr",
          "text": [
            "<ipython-input-60-2fc372805bca>:2: FutureWarning:\n",
            "\n",
            "The default value of numeric_only in DataFrame.corr is deprecated. In a future version, it will default to False. Select only valid columns or specify the value of numeric_only to silence this warning.\n",
            "\n"
          ]
        },
        {
          "output_type": "display_data",
          "data": {
            "text/html": [
              "<html>\n",
              "<head><meta charset=\"utf-8\" /></head>\n",
              "<body>\n",
              "    <div>            <script src=\"https://cdnjs.cloudflare.com/ajax/libs/mathjax/2.7.5/MathJax.js?config=TeX-AMS-MML_SVG\"></script><script type=\"text/javascript\">if (window.MathJax && window.MathJax.Hub && window.MathJax.Hub.Config) {window.MathJax.Hub.Config({SVG: {font: \"STIX-Web\"}});}</script>                <script type=\"text/javascript\">window.PlotlyConfig = {MathJaxConfig: 'local'};</script>\n",
              "        <script charset=\"utf-8\" src=\"https://cdn.plot.ly/plotly-2.24.1.min.js\"></script>                <div id=\"fc054a1d-c38a-4cb3-b32f-e407aca55a9e\" class=\"plotly-graph-div\" style=\"height:525px; width:100%;\"></div>            <script type=\"text/javascript\">                                    window.PLOTLYENV=window.PLOTLYENV || {};                                    if (document.getElementById(\"fc054a1d-c38a-4cb3-b32f-e407aca55a9e\")) {                    Plotly.newPlot(                        \"fc054a1d-c38a-4cb3-b32f-e407aca55a9e\",                        [{\"coloraxis\":\"coloraxis\",\"name\":\"0\",\"texttemplate\":\"%{z}\",\"x\":[\"y\",\"x1\",\"x2\",\"x3\",\"x4\",\"x5\"],\"y\":[\"y\",\"x1\",\"x2\",\"x3\",\"x4\",\"x5\"],\"z\":[[1.0,-0.3737012866361507,0.10539752991523248,0.27211719069624585,0.0015491221443961192,0.0063561732807553],[-0.3737012866361507,1.0,-0.01143816387987543,-0.014931036946414565,-0.0006488473690224305,0.0017030136244969353],[0.10539752991523248,-0.01143816387987543,1.0,0.005102486254601615,-0.0043831293434914995,-0.0037583880726555514],[0.27211719069624585,-0.014931036946414565,0.005102486254601615,1.0,0.013677571971325603,0.0022803371184384313],[0.0015491221443961192,-0.0006488473690224305,-0.0043831293434914995,0.013677571971325603,1.0,-0.0040318496912174085],[0.0063561732807553,0.0017030136244969353,-0.0037583880726555514,0.0022803371184384313,-0.0040318496912174085,1.0]],\"type\":\"heatmap\",\"xaxis\":\"x\",\"yaxis\":\"y\",\"hovertemplate\":\"x: %{x}\\u003cbr\\u003ey: %{y}\\u003cbr\\u003eCorrelation: %{z}\\u003cextra\\u003e\\u003c\\u002fextra\\u003e\"}],                        {\"template\":{\"data\":{\"histogram2dcontour\":[{\"type\":\"histogram2dcontour\",\"colorbar\":{\"outlinewidth\":0,\"ticks\":\"\"},\"colorscale\":[[0.0,\"#0d0887\"],[0.1111111111111111,\"#46039f\"],[0.2222222222222222,\"#7201a8\"],[0.3333333333333333,\"#9c179e\"],[0.4444444444444444,\"#bd3786\"],[0.5555555555555556,\"#d8576b\"],[0.6666666666666666,\"#ed7953\"],[0.7777777777777778,\"#fb9f3a\"],[0.8888888888888888,\"#fdca26\"],[1.0,\"#f0f921\"]]}],\"choropleth\":[{\"type\":\"choropleth\",\"colorbar\":{\"outlinewidth\":0,\"ticks\":\"\"}}],\"histogram2d\":[{\"type\":\"histogram2d\",\"colorbar\":{\"outlinewidth\":0,\"ticks\":\"\"},\"colorscale\":[[0.0,\"#0d0887\"],[0.1111111111111111,\"#46039f\"],[0.2222222222222222,\"#7201a8\"],[0.3333333333333333,\"#9c179e\"],[0.4444444444444444,\"#bd3786\"],[0.5555555555555556,\"#d8576b\"],[0.6666666666666666,\"#ed7953\"],[0.7777777777777778,\"#fb9f3a\"],[0.8888888888888888,\"#fdca26\"],[1.0,\"#f0f921\"]]}],\"heatmap\":[{\"type\":\"heatmap\",\"colorbar\":{\"outlinewidth\":0,\"ticks\":\"\"},\"colorscale\":[[0.0,\"#0d0887\"],[0.1111111111111111,\"#46039f\"],[0.2222222222222222,\"#7201a8\"],[0.3333333333333333,\"#9c179e\"],[0.4444444444444444,\"#bd3786\"],[0.5555555555555556,\"#d8576b\"],[0.6666666666666666,\"#ed7953\"],[0.7777777777777778,\"#fb9f3a\"],[0.8888888888888888,\"#fdca26\"],[1.0,\"#f0f921\"]]}],\"heatmapgl\":[{\"type\":\"heatmapgl\",\"colorbar\":{\"outlinewidth\":0,\"ticks\":\"\"},\"colorscale\":[[0.0,\"#0d0887\"],[0.1111111111111111,\"#46039f\"],[0.2222222222222222,\"#7201a8\"],[0.3333333333333333,\"#9c179e\"],[0.4444444444444444,\"#bd3786\"],[0.5555555555555556,\"#d8576b\"],[0.6666666666666666,\"#ed7953\"],[0.7777777777777778,\"#fb9f3a\"],[0.8888888888888888,\"#fdca26\"],[1.0,\"#f0f921\"]]}],\"contourcarpet\":[{\"type\":\"contourcarpet\",\"colorbar\":{\"outlinewidth\":0,\"ticks\":\"\"}}],\"contour\":[{\"type\":\"contour\",\"colorbar\":{\"outlinewidth\":0,\"ticks\":\"\"},\"colorscale\":[[0.0,\"#0d0887\"],[0.1111111111111111,\"#46039f\"],[0.2222222222222222,\"#7201a8\"],[0.3333333333333333,\"#9c179e\"],[0.4444444444444444,\"#bd3786\"],[0.5555555555555556,\"#d8576b\"],[0.6666666666666666,\"#ed7953\"],[0.7777777777777778,\"#fb9f3a\"],[0.8888888888888888,\"#fdca26\"],[1.0,\"#f0f921\"]]}],\"surface\":[{\"type\":\"surface\",\"colorbar\":{\"outlinewidth\":0,\"ticks\":\"\"},\"colorscale\":[[0.0,\"#0d0887\"],[0.1111111111111111,\"#46039f\"],[0.2222222222222222,\"#7201a8\"],[0.3333333333333333,\"#9c179e\"],[0.4444444444444444,\"#bd3786\"],[0.5555555555555556,\"#d8576b\"],[0.6666666666666666,\"#ed7953\"],[0.7777777777777778,\"#fb9f3a\"],[0.8888888888888888,\"#fdca26\"],[1.0,\"#f0f921\"]]}],\"mesh3d\":[{\"type\":\"mesh3d\",\"colorbar\":{\"outlinewidth\":0,\"ticks\":\"\"}}],\"scatter\":[{\"fillpattern\":{\"fillmode\":\"overlay\",\"size\":10,\"solidity\":0.2},\"type\":\"scatter\"}],\"parcoords\":[{\"type\":\"parcoords\",\"line\":{\"colorbar\":{\"outlinewidth\":0,\"ticks\":\"\"}}}],\"scatterpolargl\":[{\"type\":\"scatterpolargl\",\"marker\":{\"colorbar\":{\"outlinewidth\":0,\"ticks\":\"\"}}}],\"bar\":[{\"error_x\":{\"color\":\"#2a3f5f\"},\"error_y\":{\"color\":\"#2a3f5f\"},\"marker\":{\"line\":{\"color\":\"#E5ECF6\",\"width\":0.5},\"pattern\":{\"fillmode\":\"overlay\",\"size\":10,\"solidity\":0.2}},\"type\":\"bar\"}],\"scattergeo\":[{\"type\":\"scattergeo\",\"marker\":{\"colorbar\":{\"outlinewidth\":0,\"ticks\":\"\"}}}],\"scatterpolar\":[{\"type\":\"scatterpolar\",\"marker\":{\"colorbar\":{\"outlinewidth\":0,\"ticks\":\"\"}}}],\"histogram\":[{\"marker\":{\"pattern\":{\"fillmode\":\"overlay\",\"size\":10,\"solidity\":0.2}},\"type\":\"histogram\"}],\"scattergl\":[{\"type\":\"scattergl\",\"marker\":{\"colorbar\":{\"outlinewidth\":0,\"ticks\":\"\"}}}],\"scatter3d\":[{\"type\":\"scatter3d\",\"line\":{\"colorbar\":{\"outlinewidth\":0,\"ticks\":\"\"}},\"marker\":{\"colorbar\":{\"outlinewidth\":0,\"ticks\":\"\"}}}],\"scattermapbox\":[{\"type\":\"scattermapbox\",\"marker\":{\"colorbar\":{\"outlinewidth\":0,\"ticks\":\"\"}}}],\"scatterternary\":[{\"type\":\"scatterternary\",\"marker\":{\"colorbar\":{\"outlinewidth\":0,\"ticks\":\"\"}}}],\"scattercarpet\":[{\"type\":\"scattercarpet\",\"marker\":{\"colorbar\":{\"outlinewidth\":0,\"ticks\":\"\"}}}],\"carpet\":[{\"aaxis\":{\"endlinecolor\":\"#2a3f5f\",\"gridcolor\":\"white\",\"linecolor\":\"white\",\"minorgridcolor\":\"white\",\"startlinecolor\":\"#2a3f5f\"},\"baxis\":{\"endlinecolor\":\"#2a3f5f\",\"gridcolor\":\"white\",\"linecolor\":\"white\",\"minorgridcolor\":\"white\",\"startlinecolor\":\"#2a3f5f\"},\"type\":\"carpet\"}],\"table\":[{\"cells\":{\"fill\":{\"color\":\"#EBF0F8\"},\"line\":{\"color\":\"white\"}},\"header\":{\"fill\":{\"color\":\"#C8D4E3\"},\"line\":{\"color\":\"white\"}},\"type\":\"table\"}],\"barpolar\":[{\"marker\":{\"line\":{\"color\":\"#E5ECF6\",\"width\":0.5},\"pattern\":{\"fillmode\":\"overlay\",\"size\":10,\"solidity\":0.2}},\"type\":\"barpolar\"}],\"pie\":[{\"automargin\":true,\"type\":\"pie\"}]},\"layout\":{\"autotypenumbers\":\"strict\",\"colorway\":[\"#636efa\",\"#EF553B\",\"#00cc96\",\"#ab63fa\",\"#FFA15A\",\"#19d3f3\",\"#FF6692\",\"#B6E880\",\"#FF97FF\",\"#FECB52\"],\"font\":{\"color\":\"#2a3f5f\"},\"hovermode\":\"closest\",\"hoverlabel\":{\"align\":\"left\"},\"paper_bgcolor\":\"white\",\"plot_bgcolor\":\"#E5ECF6\",\"polar\":{\"bgcolor\":\"#E5ECF6\",\"angularaxis\":{\"gridcolor\":\"white\",\"linecolor\":\"white\",\"ticks\":\"\"},\"radialaxis\":{\"gridcolor\":\"white\",\"linecolor\":\"white\",\"ticks\":\"\"}},\"ternary\":{\"bgcolor\":\"#E5ECF6\",\"aaxis\":{\"gridcolor\":\"white\",\"linecolor\":\"white\",\"ticks\":\"\"},\"baxis\":{\"gridcolor\":\"white\",\"linecolor\":\"white\",\"ticks\":\"\"},\"caxis\":{\"gridcolor\":\"white\",\"linecolor\":\"white\",\"ticks\":\"\"}},\"coloraxis\":{\"colorbar\":{\"outlinewidth\":0,\"ticks\":\"\"}},\"colorscale\":{\"sequential\":[[0.0,\"#0d0887\"],[0.1111111111111111,\"#46039f\"],[0.2222222222222222,\"#7201a8\"],[0.3333333333333333,\"#9c179e\"],[0.4444444444444444,\"#bd3786\"],[0.5555555555555556,\"#d8576b\"],[0.6666666666666666,\"#ed7953\"],[0.7777777777777778,\"#fb9f3a\"],[0.8888888888888888,\"#fdca26\"],[1.0,\"#f0f921\"]],\"sequentialminus\":[[0.0,\"#0d0887\"],[0.1111111111111111,\"#46039f\"],[0.2222222222222222,\"#7201a8\"],[0.3333333333333333,\"#9c179e\"],[0.4444444444444444,\"#bd3786\"],[0.5555555555555556,\"#d8576b\"],[0.6666666666666666,\"#ed7953\"],[0.7777777777777778,\"#fb9f3a\"],[0.8888888888888888,\"#fdca26\"],[1.0,\"#f0f921\"]],\"diverging\":[[0,\"#8e0152\"],[0.1,\"#c51b7d\"],[0.2,\"#de77ae\"],[0.3,\"#f1b6da\"],[0.4,\"#fde0ef\"],[0.5,\"#f7f7f7\"],[0.6,\"#e6f5d0\"],[0.7,\"#b8e186\"],[0.8,\"#7fbc41\"],[0.9,\"#4d9221\"],[1,\"#276419\"]]},\"xaxis\":{\"gridcolor\":\"white\",\"linecolor\":\"white\",\"ticks\":\"\",\"title\":{\"standoff\":15},\"zerolinecolor\":\"white\",\"automargin\":true,\"zerolinewidth\":2},\"yaxis\":{\"gridcolor\":\"white\",\"linecolor\":\"white\",\"ticks\":\"\",\"title\":{\"standoff\":15},\"zerolinecolor\":\"white\",\"automargin\":true,\"zerolinewidth\":2},\"scene\":{\"xaxis\":{\"backgroundcolor\":\"#E5ECF6\",\"gridcolor\":\"white\",\"linecolor\":\"white\",\"showbackground\":true,\"ticks\":\"\",\"zerolinecolor\":\"white\",\"gridwidth\":2},\"yaxis\":{\"backgroundcolor\":\"#E5ECF6\",\"gridcolor\":\"white\",\"linecolor\":\"white\",\"showbackground\":true,\"ticks\":\"\",\"zerolinecolor\":\"white\",\"gridwidth\":2},\"zaxis\":{\"backgroundcolor\":\"#E5ECF6\",\"gridcolor\":\"white\",\"linecolor\":\"white\",\"showbackground\":true,\"ticks\":\"\",\"zerolinecolor\":\"white\",\"gridwidth\":2}},\"shapedefaults\":{\"line\":{\"color\":\"#2a3f5f\"}},\"annotationdefaults\":{\"arrowcolor\":\"#2a3f5f\",\"arrowhead\":0,\"arrowwidth\":1},\"geo\":{\"bgcolor\":\"white\",\"landcolor\":\"#E5ECF6\",\"subunitcolor\":\"white\",\"showland\":true,\"showlakes\":true,\"lakecolor\":\"white\"},\"title\":{\"x\":0.05},\"mapbox\":{\"style\":\"light\"}}},\"xaxis\":{\"anchor\":\"y\",\"domain\":[0.0,1.0]},\"yaxis\":{\"anchor\":\"x\",\"domain\":[0.0,1.0],\"autorange\":\"reversed\"},\"coloraxis\":{\"colorbar\":{\"title\":{\"text\":\"Correlation\"}},\"colorscale\":[[0.0,\"#0d0887\"],[0.1111111111111111,\"#46039f\"],[0.2222222222222222,\"#7201a8\"],[0.3333333333333333,\"#9c179e\"],[0.4444444444444444,\"#bd3786\"],[0.5555555555555556,\"#d8576b\"],[0.6666666666666666,\"#ed7953\"],[0.7777777777777778,\"#fb9f3a\"],[0.8888888888888888,\"#fdca26\"],[1.0,\"#f0f921\"]]},\"margin\":{\"t\":60}},                        {\"responsive\": true}                    ).then(function(){\n",
              "                            \n",
              "var gd = document.getElementById('fc054a1d-c38a-4cb3-b32f-e407aca55a9e');\n",
              "var x = new MutationObserver(function (mutations, observer) {{\n",
              "        var display = window.getComputedStyle(gd).display;\n",
              "        if (!display || display === 'none') {{\n",
              "            console.log([gd, 'removed!']);\n",
              "            Plotly.purge(gd);\n",
              "            observer.disconnect();\n",
              "        }}\n",
              "}});\n",
              "\n",
              "// Listen for the removal of the full notebook cells\n",
              "var notebookContainer = gd.closest('#notebook-container');\n",
              "if (notebookContainer) {{\n",
              "    x.observe(notebookContainer, {childList: true});\n",
              "}}\n",
              "\n",
              "// Listen for the clearing of the current output cell\n",
              "var outputEl = gd.closest('.output');\n",
              "if (outputEl) {{\n",
              "    x.observe(outputEl, {childList: true});\n",
              "}}\n",
              "\n",
              "                        })                };                            </script>        </div>\n",
              "</body>\n",
              "</html>"
            ]
          },
          "metadata": {}
        }
      ],
      "source": [
        "# Utilizando el coeficiente de correlación Pearson\n",
        "fig = px.imshow(df.corr(), text_auto=True, aspect=\"auto\",\n",
        "                labels=dict(color=\"Correlation\"))\n",
        "fig.show()"
      ]
    },
    {
      "cell_type": "markdown",
      "id": "5418e980",
      "metadata": {
        "id": "5418e980"
      },
      "source": [
        "### Correlación entre dos variables categoricas"
      ]
    },
    {
      "cell_type": "markdown",
      "id": "46f40e57",
      "metadata": {
        "id": "46f40e57"
      },
      "source": [
        "### x6 esta correlacionada con y?\n",
        "\n",
        "Responde la pregunta revisando la salida de la siguiente celda? No espero que sepas lo que hace la siguiente celda, pero sí espero que busques qué es lo que hace y como interpretar el resultado."
      ]
    },
    {
      "cell_type": "markdown",
      "source": [
        "El valor p se define como la probabilidad de que un valor estadístico calculado sea posible dada una hipótesis nula cierta. En términos simples, el valor p ayuda a diferenciar resultados que son producto del azar del muestreo, de resultados que son estadísticamente significativos.\n",
        "\n",
        "Es probable que la dsitribbución de x6 sea producto del azar del muestreo."
      ],
      "metadata": {
        "id": "j0YchoBTDaA2"
      },
      "id": "j0YchoBTDaA2"
    },
    {
      "cell_type": "code",
      "execution_count": null,
      "id": "cb90587f",
      "metadata": {
        "scrolled": true,
        "id": "cb90587f",
        "colab": {
          "base_uri": "https://localhost:8080/"
        },
        "outputId": "f4ae349e-3f8a-416d-96b9-f88dd6a9f3b6"
      },
      "outputs": [
        {
          "output_type": "stream",
          "name": "stdout",
          "text": [
            "x6    AA      R\n",
            "y              \n",
            "0   2548  10155\n",
            "1   1481   5816 \n",
            "\n",
            "P-Value de x6: 0.7000513868090135\n"
          ]
        }
      ],
      "source": [
        "CrosstabResult = pd.crosstab(index = df['y'], columns = df['x6'])\n",
        "print(CrosstabResult, '\\n')\n",
        "\n",
        "ChiSqResult = chi2_contingency(CrosstabResult)\n",
        "print('P-Value de x6:', ChiSqResult[1])"
      ]
    },
    {
      "cell_type": "markdown",
      "id": "c67991d1",
      "metadata": {
        "id": "c67991d1"
      },
      "source": [
        "### x7 y y  estan correlacionadas?"
      ]
    },
    {
      "cell_type": "markdown",
      "source": [
        "La dsitribbución de x7 es estadísticamente significativa."
      ],
      "metadata": {
        "id": "1cHXrNQ3EaHY"
      },
      "id": "1cHXrNQ3EaHY"
    },
    {
      "cell_type": "code",
      "execution_count": null,
      "id": "c7c5cb65",
      "metadata": {
        "id": "c7c5cb65",
        "colab": {
          "base_uri": "https://localhost:8080/"
        },
        "outputId": "1c62b3cd-bdda-4eb3-884b-f0d0941227f5"
      },
      "outputs": [
        {
          "output_type": "stream",
          "name": "stdout",
          "text": [
            "x7    A     B     C     D\n",
            "y                        \n",
            "0   358  2477  5517  4351\n",
            "1   186  1320  3327  2464 \n",
            "\n",
            "P-Value de x7: 0.010156945847149115\n"
          ]
        }
      ],
      "source": [
        "CrosstabResult = pd.crosstab(index = df['y'], columns = df['x7'])\n",
        "print(CrosstabResult, '\\n')\n",
        "\n",
        "ChiSqResult = chi2_contingency(CrosstabResult)\n",
        "print('P-Value de x7:', ChiSqResult[1])"
      ]
    },
    {
      "cell_type": "markdown",
      "id": "bb710fde",
      "metadata": {
        "id": "bb710fde"
      },
      "source": [
        "### En resumen, podemos afirmar que los predictores que sí influyen en la variable de salida y, son ...\n",
        "\n",
        "probalemente, x7 y en menor medida, pero en orden, x1, x3 y x2."
      ]
    },
    {
      "cell_type": "markdown",
      "id": "d619e878",
      "metadata": {
        "id": "d619e878"
      },
      "source": [
        "___"
      ]
    },
    {
      "cell_type": "markdown",
      "id": "720d659e",
      "metadata": {
        "id": "720d659e"
      },
      "source": [
        "<font color=\"#D792FE\">\n",
        "    \n",
        "o\t¿Qué atributos del cliente tienen mayor impacto o influyen más al momento de hacer la predicción del modelo?\n",
        "    \n",
        "La varible x7\n"
      ]
    }
  ],
  "metadata": {
    "kernelspec": {
      "display_name": "Python 3 (ipykernel)",
      "language": "python",
      "name": "python3"
    },
    "language_info": {
      "codemirror_mode": {
        "name": "ipython",
        "version": 3
      },
      "file_extension": ".py",
      "mimetype": "text/x-python",
      "name": "python",
      "nbconvert_exporter": "python",
      "pygments_lexer": "ipython3",
      "version": "3.8.8"
    },
    "colab": {
      "provenance": [],
      "include_colab_link": true
    }
  },
  "nbformat": 4,
  "nbformat_minor": 5
}